{
  "cells": [
    {
      "cell_type": "markdown",
      "metadata": {
        "id": "alIIEHibGc3M"
      },
      "source": [
        "## Part 1: Preprocessing"
      ]
    },
    {
      "cell_type": "code",
      "execution_count": 156,
      "metadata": {
        "colab": {
          "base_uri": "https://localhost:8080/",
          "height": 325
        },
        "id": "6eDUJ4NtGc3P",
        "outputId": "2480098c-135c-4cbf-9552-018494ee8ff5"
      },
      "outputs": [
        {
          "data": {
            "text/html": [
              "<div>\n",
              "<style scoped>\n",
              "    .dataframe tbody tr th:only-of-type {\n",
              "        vertical-align: middle;\n",
              "    }\n",
              "\n",
              "    .dataframe tbody tr th {\n",
              "        vertical-align: top;\n",
              "    }\n",
              "\n",
              "    .dataframe thead th {\n",
              "        text-align: right;\n",
              "    }\n",
              "</style>\n",
              "<table border=\"1\" class=\"dataframe\">\n",
              "  <thead>\n",
              "    <tr style=\"text-align: right;\">\n",
              "      <th></th>\n",
              "      <th>Age</th>\n",
              "      <th>Attrition</th>\n",
              "      <th>BusinessTravel</th>\n",
              "      <th>Department</th>\n",
              "      <th>DistanceFromHome</th>\n",
              "      <th>Education</th>\n",
              "      <th>EducationField</th>\n",
              "      <th>EnvironmentSatisfaction</th>\n",
              "      <th>HourlyRate</th>\n",
              "      <th>JobInvolvement</th>\n",
              "      <th>...</th>\n",
              "      <th>PerformanceRating</th>\n",
              "      <th>RelationshipSatisfaction</th>\n",
              "      <th>StockOptionLevel</th>\n",
              "      <th>TotalWorkingYears</th>\n",
              "      <th>TrainingTimesLastYear</th>\n",
              "      <th>WorkLifeBalance</th>\n",
              "      <th>YearsAtCompany</th>\n",
              "      <th>YearsInCurrentRole</th>\n",
              "      <th>YearsSinceLastPromotion</th>\n",
              "      <th>YearsWithCurrManager</th>\n",
              "    </tr>\n",
              "  </thead>\n",
              "  <tbody>\n",
              "    <tr>\n",
              "      <th>0</th>\n",
              "      <td>41</td>\n",
              "      <td>Yes</td>\n",
              "      <td>Travel_Rarely</td>\n",
              "      <td>Sales</td>\n",
              "      <td>1</td>\n",
              "      <td>2</td>\n",
              "      <td>Life Sciences</td>\n",
              "      <td>2</td>\n",
              "      <td>94</td>\n",
              "      <td>3</td>\n",
              "      <td>...</td>\n",
              "      <td>3</td>\n",
              "      <td>1</td>\n",
              "      <td>0</td>\n",
              "      <td>8</td>\n",
              "      <td>0</td>\n",
              "      <td>1</td>\n",
              "      <td>6</td>\n",
              "      <td>4</td>\n",
              "      <td>0</td>\n",
              "      <td>5</td>\n",
              "    </tr>\n",
              "    <tr>\n",
              "      <th>1</th>\n",
              "      <td>49</td>\n",
              "      <td>No</td>\n",
              "      <td>Travel_Frequently</td>\n",
              "      <td>Research &amp; Development</td>\n",
              "      <td>8</td>\n",
              "      <td>1</td>\n",
              "      <td>Life Sciences</td>\n",
              "      <td>3</td>\n",
              "      <td>61</td>\n",
              "      <td>2</td>\n",
              "      <td>...</td>\n",
              "      <td>4</td>\n",
              "      <td>4</td>\n",
              "      <td>1</td>\n",
              "      <td>10</td>\n",
              "      <td>3</td>\n",
              "      <td>3</td>\n",
              "      <td>10</td>\n",
              "      <td>7</td>\n",
              "      <td>1</td>\n",
              "      <td>7</td>\n",
              "    </tr>\n",
              "    <tr>\n",
              "      <th>2</th>\n",
              "      <td>37</td>\n",
              "      <td>Yes</td>\n",
              "      <td>Travel_Rarely</td>\n",
              "      <td>Research &amp; Development</td>\n",
              "      <td>2</td>\n",
              "      <td>2</td>\n",
              "      <td>Other</td>\n",
              "      <td>4</td>\n",
              "      <td>92</td>\n",
              "      <td>2</td>\n",
              "      <td>...</td>\n",
              "      <td>3</td>\n",
              "      <td>2</td>\n",
              "      <td>0</td>\n",
              "      <td>7</td>\n",
              "      <td>3</td>\n",
              "      <td>3</td>\n",
              "      <td>0</td>\n",
              "      <td>0</td>\n",
              "      <td>0</td>\n",
              "      <td>0</td>\n",
              "    </tr>\n",
              "    <tr>\n",
              "      <th>3</th>\n",
              "      <td>33</td>\n",
              "      <td>No</td>\n",
              "      <td>Travel_Frequently</td>\n",
              "      <td>Research &amp; Development</td>\n",
              "      <td>3</td>\n",
              "      <td>4</td>\n",
              "      <td>Life Sciences</td>\n",
              "      <td>4</td>\n",
              "      <td>56</td>\n",
              "      <td>3</td>\n",
              "      <td>...</td>\n",
              "      <td>3</td>\n",
              "      <td>3</td>\n",
              "      <td>0</td>\n",
              "      <td>8</td>\n",
              "      <td>3</td>\n",
              "      <td>3</td>\n",
              "      <td>8</td>\n",
              "      <td>7</td>\n",
              "      <td>3</td>\n",
              "      <td>0</td>\n",
              "    </tr>\n",
              "    <tr>\n",
              "      <th>4</th>\n",
              "      <td>27</td>\n",
              "      <td>No</td>\n",
              "      <td>Travel_Rarely</td>\n",
              "      <td>Research &amp; Development</td>\n",
              "      <td>2</td>\n",
              "      <td>1</td>\n",
              "      <td>Medical</td>\n",
              "      <td>1</td>\n",
              "      <td>40</td>\n",
              "      <td>3</td>\n",
              "      <td>...</td>\n",
              "      <td>3</td>\n",
              "      <td>4</td>\n",
              "      <td>1</td>\n",
              "      <td>6</td>\n",
              "      <td>3</td>\n",
              "      <td>3</td>\n",
              "      <td>2</td>\n",
              "      <td>2</td>\n",
              "      <td>2</td>\n",
              "      <td>2</td>\n",
              "    </tr>\n",
              "  </tbody>\n",
              "</table>\n",
              "<p>5 rows × 27 columns</p>\n",
              "</div>"
            ],
            "text/plain": [
              "   Age Attrition     BusinessTravel              Department  DistanceFromHome  \\\n",
              "0   41       Yes      Travel_Rarely                   Sales                 1   \n",
              "1   49        No  Travel_Frequently  Research & Development                 8   \n",
              "2   37       Yes      Travel_Rarely  Research & Development                 2   \n",
              "3   33        No  Travel_Frequently  Research & Development                 3   \n",
              "4   27        No      Travel_Rarely  Research & Development                 2   \n",
              "\n",
              "   Education EducationField  EnvironmentSatisfaction  HourlyRate  \\\n",
              "0          2  Life Sciences                        2          94   \n",
              "1          1  Life Sciences                        3          61   \n",
              "2          2          Other                        4          92   \n",
              "3          4  Life Sciences                        4          56   \n",
              "4          1        Medical                        1          40   \n",
              "\n",
              "   JobInvolvement  ...  PerformanceRating RelationshipSatisfaction  \\\n",
              "0               3  ...                  3                        1   \n",
              "1               2  ...                  4                        4   \n",
              "2               2  ...                  3                        2   \n",
              "3               3  ...                  3                        3   \n",
              "4               3  ...                  3                        4   \n",
              "\n",
              "   StockOptionLevel TotalWorkingYears  TrainingTimesLastYear WorkLifeBalance  \\\n",
              "0                 0                 8                      0               1   \n",
              "1                 1                10                      3               3   \n",
              "2                 0                 7                      3               3   \n",
              "3                 0                 8                      3               3   \n",
              "4                 1                 6                      3               3   \n",
              "\n",
              "   YearsAtCompany  YearsInCurrentRole  YearsSinceLastPromotion  \\\n",
              "0               6                   4                        0   \n",
              "1              10                   7                        1   \n",
              "2               0                   0                        0   \n",
              "3               8                   7                        3   \n",
              "4               2                   2                        2   \n",
              "\n",
              "   YearsWithCurrManager  \n",
              "0                     5  \n",
              "1                     7  \n",
              "2                     0  \n",
              "3                     0  \n",
              "4                     2  \n",
              "\n",
              "[5 rows x 27 columns]"
            ]
          },
          "execution_count": 156,
          "metadata": {},
          "output_type": "execute_result"
        }
      ],
      "source": [
        "# Import our dependencies\n",
        "from sklearn.model_selection import train_test_split\n",
        "from sklearn.preprocessing import StandardScaler, OneHotEncoder, LabelEncoder\n",
        "import pandas as pd\n",
        "import numpy as np\n",
        "from tensorflow.keras.models import Model\n",
        "from tensorflow.keras import layers\n",
        "\n",
        "#  Import and read the attrition data\n",
        "attrition_df = pd.read_csv('https://static.bc-edx.com/ai/ail-v-1-0/m19/lms/datasets/attrition.csv')\n",
        "attrition_df.head()"
      ]
    },
    {
      "cell_type": "code",
      "execution_count": 157,
      "metadata": {
        "colab": {
          "base_uri": "https://localhost:8080/"
        },
        "id": "g22aQSY4Gc3Q",
        "outputId": "1f5c13c1-b981-4e40-a7ed-dd3fe6f1b81e"
      },
      "outputs": [
        {
          "data": {
            "text/plain": [
              "Age                         43\n",
              "Attrition                    2\n",
              "BusinessTravel               3\n",
              "Department                   3\n",
              "DistanceFromHome            29\n",
              "Education                    5\n",
              "EducationField               6\n",
              "EnvironmentSatisfaction      4\n",
              "HourlyRate                  71\n",
              "JobInvolvement               4\n",
              "JobLevel                     5\n",
              "JobRole                      9\n",
              "JobSatisfaction              4\n",
              "MaritalStatus                3\n",
              "NumCompaniesWorked          10\n",
              "OverTime                     2\n",
              "PercentSalaryHike           15\n",
              "PerformanceRating            2\n",
              "RelationshipSatisfaction     4\n",
              "StockOptionLevel             4\n",
              "TotalWorkingYears           40\n",
              "TrainingTimesLastYear        7\n",
              "WorkLifeBalance              4\n",
              "YearsAtCompany              37\n",
              "YearsInCurrentRole          19\n",
              "YearsSinceLastPromotion     16\n",
              "YearsWithCurrManager        18\n",
              "dtype: int64"
            ]
          },
          "execution_count": 157,
          "metadata": {},
          "output_type": "execute_result"
        }
      ],
      "source": [
        "# Determine the number of unique values in each column.\n",
        "attrition_df.nunique()"
      ]
    },
    {
      "cell_type": "code",
      "execution_count": 158,
      "metadata": {
        "id": "50vMgBEnJbfM"
      },
      "outputs": [
        {
          "data": {
            "text/html": [
              "<div>\n",
              "<style scoped>\n",
              "    .dataframe tbody tr th:only-of-type {\n",
              "        vertical-align: middle;\n",
              "    }\n",
              "\n",
              "    .dataframe tbody tr th {\n",
              "        vertical-align: top;\n",
              "    }\n",
              "\n",
              "    .dataframe thead th {\n",
              "        text-align: right;\n",
              "    }\n",
              "</style>\n",
              "<table border=\"1\" class=\"dataframe\">\n",
              "  <thead>\n",
              "    <tr style=\"text-align: right;\">\n",
              "      <th></th>\n",
              "      <th>Attrition</th>\n",
              "      <th>Department</th>\n",
              "    </tr>\n",
              "  </thead>\n",
              "  <tbody>\n",
              "    <tr>\n",
              "      <th>0</th>\n",
              "      <td>Yes</td>\n",
              "      <td>Sales</td>\n",
              "    </tr>\n",
              "    <tr>\n",
              "      <th>1</th>\n",
              "      <td>No</td>\n",
              "      <td>Research &amp; Development</td>\n",
              "    </tr>\n",
              "    <tr>\n",
              "      <th>2</th>\n",
              "      <td>Yes</td>\n",
              "      <td>Research &amp; Development</td>\n",
              "    </tr>\n",
              "    <tr>\n",
              "      <th>3</th>\n",
              "      <td>No</td>\n",
              "      <td>Research &amp; Development</td>\n",
              "    </tr>\n",
              "    <tr>\n",
              "      <th>4</th>\n",
              "      <td>No</td>\n",
              "      <td>Research &amp; Development</td>\n",
              "    </tr>\n",
              "  </tbody>\n",
              "</table>\n",
              "</div>"
            ],
            "text/plain": [
              "  Attrition              Department\n",
              "0       Yes                   Sales\n",
              "1        No  Research & Development\n",
              "2       Yes  Research & Development\n",
              "3        No  Research & Development\n",
              "4        No  Research & Development"
            ]
          },
          "execution_count": 158,
          "metadata": {},
          "output_type": "execute_result"
        }
      ],
      "source": [
        "# Create y_df with the Attrition and Department columns\n",
        "y_df = attrition_df[['Attrition', 'Department']]\n",
        "y_df.head()\n",
        "\n",
        "\n"
      ]
    },
    {
      "cell_type": "code",
      "execution_count": 159,
      "metadata": {
        "colab": {
          "base_uri": "https://localhost:8080/"
        },
        "id": "Virka0zLGc3R",
        "outputId": "dd5aee3a-9458-4ba6-e857-1b234de40915"
      },
      "outputs": [
        {
          "data": {
            "text/plain": [
              "Age                         int64\n",
              "DistanceFromHome            int64\n",
              "EnvironmentSatisfaction     int64\n",
              "JobInvolvement              int64\n",
              "JobSatisfaction             int64\n",
              "OverTime                   object\n",
              "WorkLifeBalance             int64\n",
              "YearsAtCompany              int64\n",
              "YearsInCurrentRole          int64\n",
              "YearsWithCurrManager        int64\n",
              "dtype: object"
            ]
          },
          "execution_count": 159,
          "metadata": {},
          "output_type": "execute_result"
        }
      ],
      "source": [
        "# Create a list of at least 10 column names to use as X data\n",
        "\n",
        "X_data = ['Age', 'DistanceFromHome', 'EnvironmentSatisfaction', 'JobInvolvement', 'JobSatisfaction', 'OverTime', 'WorkLifeBalance', 'YearsAtCompany', 'YearsInCurrentRole', 'YearsWithCurrManager']\n",
        "\n",
        "\n",
        "# Create X_df using your selected columns\n",
        "X_df = attrition_df[X_data]\n",
        "X_df.head()\n",
        "\n",
        "# Show the data types for X_df\n",
        "\n",
        "X_df.dtypes"
      ]
    },
    {
      "cell_type": "code",
      "execution_count": 160,
      "metadata": {},
      "outputs": [],
      "source": [
        "# Split the data into training and testing sets\n",
        "from sklearn.model_selection import train_test_split\n",
        "\n",
        "X_train, X_test, y_train, y_test = train_test_split(X_df, y_df, random_state=1)\n"
      ]
    },
    {
      "cell_type": "code",
      "execution_count": 161,
      "metadata": {},
      "outputs": [],
      "source": [
        "# Convert your X data to numeric data types however you see fit\n",
        "# Add new code cells as necessary\n",
        "OverTime_encoder = OneHotEncoder(sparse_output=False, drop='first', handle_unknown='ignore')\n",
        "OverTime_encoder.fit(np.array(X_train['OverTime']).reshape(-1,1))\n",
        "X_train['OverTimeEncoded'] = OverTime_encoder.transform(np.array(X_train['OverTime']).reshape(-1,1))\n",
        "X_test['OverTimeEncoded'] = OverTime_encoder.transform(np.array(X_test['OverTime']).reshape(-1,1))\n",
        "X_train = X_train.drop('OverTime', axis=1)\n",
        "X_test = X_test.drop('OverTime', axis=1)\n",
        "\n"
      ]
    },
    {
      "cell_type": "code",
      "execution_count": 162,
      "metadata": {
        "id": "EWA-aIA5Gc3T"
      },
      "outputs": [],
      "source": [
        "# Create a StandardScaler\n",
        "scaler = StandardScaler()\n",
        "\n",
        "# Fit the StandardScaler to the training data\n",
        "X_scaler = scaler.fit(X_train)\n",
        "\n",
        "# Scale the training and testing data\n",
        "scaled_X_train = X_scaler.transform(X_train)\n",
        "scaled_X_test = X_scaler.transform(X_test)\n",
        "\n",
        "\n",
        "\n"
      ]
    },
    {
      "cell_type": "code",
      "execution_count": 163,
      "metadata": {
        "colab": {
          "base_uri": "https://localhost:8080/"
        },
        "id": "-z0Mky8vQSz4",
        "outputId": "debefc85-c20b-48f5-f4d9-91eadd65d36a"
      },
      "outputs": [
        {
          "data": {
            "text/plain": [
              "array([[0., 1., 0.],\n",
              "       [0., 1., 0.],\n",
              "       [0., 0., 1.],\n",
              "       ...,\n",
              "       [1., 0., 0.],\n",
              "       [0., 0., 1.],\n",
              "       [0., 0., 1.]])"
            ]
          },
          "execution_count": 163,
          "metadata": {},
          "output_type": "execute_result"
        }
      ],
      "source": [
        "# Create a OneHotEncoder for the Department column\n",
        "department_encoder = OneHotEncoder(sparse_output=False, drop=None, handle_unknown='ignore')\n",
        "\n",
        "# Fit the encoder to the training data\n",
        "department_encoder.fit(np.array(y_train['Department']).reshape(-1,1))\n",
        "\n",
        "# Create two new variables by applying the encoder\n",
        "# to the training and testing data\n",
        "y_department_train_encoded = department_encoder.transform(np.array(y_train['Department']).reshape(-1,1))\n",
        "y_department_test_encoded = department_encoder.transform(np.array(y_test['Department']).reshape(-1,1))\n",
        "y_department_train_encoded"
      ]
    },
    {
      "cell_type": "code",
      "execution_count": 164,
      "metadata": {
        "colab": {
          "base_uri": "https://localhost:8080/"
        },
        "id": "-G4DSpvFRrk4",
        "outputId": "9842e948-8a55-4b80-8fac-f96714e85589"
      },
      "outputs": [
        {
          "data": {
            "text/plain": [
              "array([[1., 0.],\n",
              "       [1., 0.],\n",
              "       [0., 1.],\n",
              "       ...,\n",
              "       [1., 0.],\n",
              "       [1., 0.],\n",
              "       [1., 0.]])"
            ]
          },
          "execution_count": 164,
          "metadata": {},
          "output_type": "execute_result"
        }
      ],
      "source": [
        "# Create a OneHotEncoder for the Attrition column\n",
        "attrition_encoded = OneHotEncoder(sparse_output=False, drop=None, handle_unknown='ignore')\n",
        "\n",
        "attrition_encoded.fit(np.array(y_train['Attrition']).reshape(-1,1))\n",
        "\n",
        "y_attrition_train_encoded = attrition_encoded.transform(np.array(y_train['Attrition']).reshape(-1,1))\n",
        "y_attrition_test_encoded = attrition_encoded.transform(np.array(y_test['Attrition']).reshape(-1,1))\n",
        "y_attrition_train_encoded\n"
      ]
    },
    {
      "cell_type": "markdown",
      "metadata": {
        "id": "ykNmu_WWGc3T"
      },
      "source": [
        "## Create, Compile, and Train the Model"
      ]
    },
    {
      "cell_type": "code",
      "execution_count": 166,
      "metadata": {
        "id": "WUptZqmSGc3T"
      },
      "outputs": [
        {
          "name": "stdout",
          "output_type": "stream",
          "text": [
            "10\n"
          ]
        }
      ],
      "source": [
        "# Find the number of columns in the X training data\n",
        "input_features = len(scaled_X_train[0])\n",
        "\n",
        "# Create the input layer\n",
        "input_layer = layers.Input(shape=(input_features,))\n",
        "print(input_features)\n",
        "\n",
        "# Create at least two shared layers\n",
        "shared_layer1 = layers.Dense(64, activation='relu')(input_layer)\n",
        "shared_layer2 = layers.Dense(32, activation='relu')(shared_layer1)\n",
        "\n"
      ]
    },
    {
      "cell_type": "code",
      "execution_count": 167,
      "metadata": {
        "id": "JukjTm2yTEqd"
      },
      "outputs": [],
      "source": [
        "# Create a branch for Department\n",
        "# with a hidden layer and an output layer\n",
        "\n",
        "\n",
        "# Create the hidden layer\n",
        "department_hidden = layers.Dense(64, activation='relu', name='department_hidden')(shared_layer2)\n",
        "\n",
        "# Create the output layer\n",
        "department_output = layers.Dense(3, activation='softmax', name='department_output')(department_hidden)\n",
        "\n",
        "\n",
        "\n"
      ]
    },
    {
      "cell_type": "code",
      "execution_count": 171,
      "metadata": {
        "id": "9OqhUiOJUBkR"
      },
      "outputs": [],
      "source": [
        "# Create a branch for Attrition\n",
        "# with a hidden layer and an output layer\n",
        "\n",
        "# Create the hidden layer\n",
        "attrition_hidden = layers.Dense(64, activation='relu', name='attrition_hidden')(shared_layer2)\n",
        "\n",
        "# Create the output layer\n",
        "attrition_output = layers.Dense(y_attrition_train_encoded.shape[1], activation='sigmoid', name='attrition_output')(attrition_hidden)\n",
        "\n",
        "\n"
      ]
    },
    {
      "cell_type": "code",
      "execution_count": 172,
      "metadata": {
        "colab": {
          "base_uri": "https://localhost:8080/"
        },
        "id": "twmuejdxGc3T",
        "outputId": "25096308-b68b-42e4-e4ea-ae82e97c435a"
      },
      "outputs": [
        {
          "data": {
            "text/html": [
              "<pre style=\"white-space:pre;overflow-x:auto;line-height:normal;font-family:Menlo,'DejaVu Sans Mono',consolas,'Courier New',monospace\"><span style=\"font-weight: bold\">Model: \"functional_9\"</span>\n",
              "</pre>\n"
            ],
            "text/plain": [
              "\u001b[1mModel: \"functional_9\"\u001b[0m\n"
            ]
          },
          "metadata": {},
          "output_type": "display_data"
        },
        {
          "data": {
            "text/html": [
              "<pre style=\"white-space:pre;overflow-x:auto;line-height:normal;font-family:Menlo,'DejaVu Sans Mono',consolas,'Courier New',monospace\">┏━━━━━━━━━━━━━━━━━━━━━┳━━━━━━━━━━━━━━━━━━━┳━━━━━━━━━━━━┳━━━━━━━━━━━━━━━━━━━┓\n",
              "┃<span style=\"font-weight: bold\"> Layer (type)        </span>┃<span style=\"font-weight: bold\"> Output Shape      </span>┃<span style=\"font-weight: bold\">    Param # </span>┃<span style=\"font-weight: bold\"> Connected to      </span>┃\n",
              "┡━━━━━━━━━━━━━━━━━━━━━╇━━━━━━━━━━━━━━━━━━━╇━━━━━━━━━━━━╇━━━━━━━━━━━━━━━━━━━┩\n",
              "│ input_layer_5       │ (<span style=\"color: #00d7ff; text-decoration-color: #00d7ff\">None</span>, <span style=\"color: #00af00; text-decoration-color: #00af00\">10</span>)        │          <span style=\"color: #00af00; text-decoration-color: #00af00\">0</span> │ -                 │\n",
              "│ (<span style=\"color: #0087ff; text-decoration-color: #0087ff\">InputLayer</span>)        │                   │            │                   │\n",
              "├─────────────────────┼───────────────────┼────────────┼───────────────────┤\n",
              "│ dense_18 (<span style=\"color: #0087ff; text-decoration-color: #0087ff\">Dense</span>)    │ (<span style=\"color: #00d7ff; text-decoration-color: #00d7ff\">None</span>, <span style=\"color: #00af00; text-decoration-color: #00af00\">64</span>)        │        <span style=\"color: #00af00; text-decoration-color: #00af00\">704</span> │ input_layer_5[<span style=\"color: #00af00; text-decoration-color: #00af00\">0</span>]… │\n",
              "├─────────────────────┼───────────────────┼────────────┼───────────────────┤\n",
              "│ dense_19 (<span style=\"color: #0087ff; text-decoration-color: #0087ff\">Dense</span>)    │ (<span style=\"color: #00d7ff; text-decoration-color: #00d7ff\">None</span>, <span style=\"color: #00af00; text-decoration-color: #00af00\">32</span>)        │      <span style=\"color: #00af00; text-decoration-color: #00af00\">2,080</span> │ dense_18[<span style=\"color: #00af00; text-decoration-color: #00af00\">0</span>][<span style=\"color: #00af00; text-decoration-color: #00af00\">0</span>]    │\n",
              "├─────────────────────┼───────────────────┼────────────┼───────────────────┤\n",
              "│ department_hidden   │ (<span style=\"color: #00d7ff; text-decoration-color: #00d7ff\">None</span>, <span style=\"color: #00af00; text-decoration-color: #00af00\">64</span>)        │      <span style=\"color: #00af00; text-decoration-color: #00af00\">2,112</span> │ dense_19[<span style=\"color: #00af00; text-decoration-color: #00af00\">0</span>][<span style=\"color: #00af00; text-decoration-color: #00af00\">0</span>]    │\n",
              "│ (<span style=\"color: #0087ff; text-decoration-color: #0087ff\">Dense</span>)             │                   │            │                   │\n",
              "├─────────────────────┼───────────────────┼────────────┼───────────────────┤\n",
              "│ attrition_hidden    │ (<span style=\"color: #00d7ff; text-decoration-color: #00d7ff\">None</span>, <span style=\"color: #00af00; text-decoration-color: #00af00\">64</span>)        │      <span style=\"color: #00af00; text-decoration-color: #00af00\">2,112</span> │ dense_19[<span style=\"color: #00af00; text-decoration-color: #00af00\">0</span>][<span style=\"color: #00af00; text-decoration-color: #00af00\">0</span>]    │\n",
              "│ (<span style=\"color: #0087ff; text-decoration-color: #0087ff\">Dense</span>)             │                   │            │                   │\n",
              "├─────────────────────┼───────────────────┼────────────┼───────────────────┤\n",
              "│ department_output   │ (<span style=\"color: #00d7ff; text-decoration-color: #00d7ff\">None</span>, <span style=\"color: #00af00; text-decoration-color: #00af00\">3</span>)         │        <span style=\"color: #00af00; text-decoration-color: #00af00\">195</span> │ department_hidde… │\n",
              "│ (<span style=\"color: #0087ff; text-decoration-color: #0087ff\">Dense</span>)             │                   │            │                   │\n",
              "├─────────────────────┼───────────────────┼────────────┼───────────────────┤\n",
              "│ attrition_output    │ (<span style=\"color: #00d7ff; text-decoration-color: #00d7ff\">None</span>, <span style=\"color: #00af00; text-decoration-color: #00af00\">2</span>)         │        <span style=\"color: #00af00; text-decoration-color: #00af00\">130</span> │ attrition_hidden… │\n",
              "│ (<span style=\"color: #0087ff; text-decoration-color: #0087ff\">Dense</span>)             │                   │            │                   │\n",
              "└─────────────────────┴───────────────────┴────────────┴───────────────────┘\n",
              "</pre>\n"
            ],
            "text/plain": [
              "┏━━━━━━━━━━━━━━━━━━━━━┳━━━━━━━━━━━━━━━━━━━┳━━━━━━━━━━━━┳━━━━━━━━━━━━━━━━━━━┓\n",
              "┃\u001b[1m \u001b[0m\u001b[1mLayer (type)       \u001b[0m\u001b[1m \u001b[0m┃\u001b[1m \u001b[0m\u001b[1mOutput Shape     \u001b[0m\u001b[1m \u001b[0m┃\u001b[1m \u001b[0m\u001b[1m   Param #\u001b[0m\u001b[1m \u001b[0m┃\u001b[1m \u001b[0m\u001b[1mConnected to     \u001b[0m\u001b[1m \u001b[0m┃\n",
              "┡━━━━━━━━━━━━━━━━━━━━━╇━━━━━━━━━━━━━━━━━━━╇━━━━━━━━━━━━╇━━━━━━━━━━━━━━━━━━━┩\n",
              "│ input_layer_5       │ (\u001b[38;5;45mNone\u001b[0m, \u001b[38;5;34m10\u001b[0m)        │          \u001b[38;5;34m0\u001b[0m │ -                 │\n",
              "│ (\u001b[38;5;33mInputLayer\u001b[0m)        │                   │            │                   │\n",
              "├─────────────────────┼───────────────────┼────────────┼───────────────────┤\n",
              "│ dense_18 (\u001b[38;5;33mDense\u001b[0m)    │ (\u001b[38;5;45mNone\u001b[0m, \u001b[38;5;34m64\u001b[0m)        │        \u001b[38;5;34m704\u001b[0m │ input_layer_5[\u001b[38;5;34m0\u001b[0m]… │\n",
              "├─────────────────────┼───────────────────┼────────────┼───────────────────┤\n",
              "│ dense_19 (\u001b[38;5;33mDense\u001b[0m)    │ (\u001b[38;5;45mNone\u001b[0m, \u001b[38;5;34m32\u001b[0m)        │      \u001b[38;5;34m2,080\u001b[0m │ dense_18[\u001b[38;5;34m0\u001b[0m][\u001b[38;5;34m0\u001b[0m]    │\n",
              "├─────────────────────┼───────────────────┼────────────┼───────────────────┤\n",
              "│ department_hidden   │ (\u001b[38;5;45mNone\u001b[0m, \u001b[38;5;34m64\u001b[0m)        │      \u001b[38;5;34m2,112\u001b[0m │ dense_19[\u001b[38;5;34m0\u001b[0m][\u001b[38;5;34m0\u001b[0m]    │\n",
              "│ (\u001b[38;5;33mDense\u001b[0m)             │                   │            │                   │\n",
              "├─────────────────────┼───────────────────┼────────────┼───────────────────┤\n",
              "│ attrition_hidden    │ (\u001b[38;5;45mNone\u001b[0m, \u001b[38;5;34m64\u001b[0m)        │      \u001b[38;5;34m2,112\u001b[0m │ dense_19[\u001b[38;5;34m0\u001b[0m][\u001b[38;5;34m0\u001b[0m]    │\n",
              "│ (\u001b[38;5;33mDense\u001b[0m)             │                   │            │                   │\n",
              "├─────────────────────┼───────────────────┼────────────┼───────────────────┤\n",
              "│ department_output   │ (\u001b[38;5;45mNone\u001b[0m, \u001b[38;5;34m3\u001b[0m)         │        \u001b[38;5;34m195\u001b[0m │ department_hidde… │\n",
              "│ (\u001b[38;5;33mDense\u001b[0m)             │                   │            │                   │\n",
              "├─────────────────────┼───────────────────┼────────────┼───────────────────┤\n",
              "│ attrition_output    │ (\u001b[38;5;45mNone\u001b[0m, \u001b[38;5;34m2\u001b[0m)         │        \u001b[38;5;34m130\u001b[0m │ attrition_hidden… │\n",
              "│ (\u001b[38;5;33mDense\u001b[0m)             │                   │            │                   │\n",
              "└─────────────────────┴───────────────────┴────────────┴───────────────────┘\n"
            ]
          },
          "metadata": {},
          "output_type": "display_data"
        },
        {
          "data": {
            "text/html": [
              "<pre style=\"white-space:pre;overflow-x:auto;line-height:normal;font-family:Menlo,'DejaVu Sans Mono',consolas,'Courier New',monospace\"><span style=\"font-weight: bold\"> Total params: </span><span style=\"color: #00af00; text-decoration-color: #00af00\">7,333</span> (28.64 KB)\n",
              "</pre>\n"
            ],
            "text/plain": [
              "\u001b[1m Total params: \u001b[0m\u001b[38;5;34m7,333\u001b[0m (28.64 KB)\n"
            ]
          },
          "metadata": {},
          "output_type": "display_data"
        },
        {
          "data": {
            "text/html": [
              "<pre style=\"white-space:pre;overflow-x:auto;line-height:normal;font-family:Menlo,'DejaVu Sans Mono',consolas,'Courier New',monospace\"><span style=\"font-weight: bold\"> Trainable params: </span><span style=\"color: #00af00; text-decoration-color: #00af00\">7,333</span> (28.64 KB)\n",
              "</pre>\n"
            ],
            "text/plain": [
              "\u001b[1m Trainable params: \u001b[0m\u001b[38;5;34m7,333\u001b[0m (28.64 KB)\n"
            ]
          },
          "metadata": {},
          "output_type": "display_data"
        },
        {
          "data": {
            "text/html": [
              "<pre style=\"white-space:pre;overflow-x:auto;line-height:normal;font-family:Menlo,'DejaVu Sans Mono',consolas,'Courier New',monospace\"><span style=\"font-weight: bold\"> Non-trainable params: </span><span style=\"color: #00af00; text-decoration-color: #00af00\">0</span> (0.00 B)\n",
              "</pre>\n"
            ],
            "text/plain": [
              "\u001b[1m Non-trainable params: \u001b[0m\u001b[38;5;34m0\u001b[0m (0.00 B)\n"
            ]
          },
          "metadata": {},
          "output_type": "display_data"
        }
      ],
      "source": [
        "# Create the model\n",
        "\n",
        "model = Model(inputs=input_layer, outputs=[department_output, attrition_output])\n",
        "# Compile the model\n",
        "model.compile(optimizer='adam',\n",
        "              loss={'department_output': 'categorical_crossentropy', 'attrition_output': 'binary_crossentropy'},\n",
        "              metrics={'department_output': 'accuracy', 'attrition_output': 'accuracy'})\n",
        "\n",
        "# Summarize the model\n",
        "model.summary()"
      ]
    },
    {
      "cell_type": "code",
      "execution_count": 174,
      "metadata": {
        "colab": {
          "base_uri": "https://localhost:8080/"
        },
        "id": "c8oGy0dpGc3U",
        "outputId": "cc667d43-28cf-42d4-d719-c2bc02888d30"
      },
      "outputs": [
        {
          "name": "stdout",
          "output_type": "stream",
          "text": [
            "Epoch 1/100\n",
            "\u001b[1m28/28\u001b[0m \u001b[32m━━━━━━━━━━━━━━━━━━━━\u001b[0m\u001b[37m\u001b[0m \u001b[1m0s\u001b[0m 5ms/step - attrition_output_accuracy: 0.8670 - attrition_output_loss: 0.3282 - department_output_accuracy: 0.6722 - department_output_loss: 0.7048 - loss: 1.0331 - val_attrition_output_accuracy: 0.8597 - val_attrition_output_loss: 0.4209 - val_department_output_accuracy: 0.6290 - val_department_output_loss: 0.8282 - val_loss: 1.2519\n",
            "Epoch 2/100\n",
            "\u001b[1m28/28\u001b[0m \u001b[32m━━━━━━━━━━━━━━━━━━━━\u001b[0m\u001b[37m\u001b[0m \u001b[1m0s\u001b[0m 3ms/step - attrition_output_accuracy: 0.8884 - attrition_output_loss: 0.2875 - department_output_accuracy: 0.6874 - department_output_loss: 0.6811 - loss: 0.9681 - val_attrition_output_accuracy: 0.8552 - val_attrition_output_loss: 0.4223 - val_department_output_accuracy: 0.6244 - val_department_output_loss: 0.8298 - val_loss: 1.2548\n",
            "Epoch 3/100\n",
            "\u001b[1m28/28\u001b[0m \u001b[32m━━━━━━━━━━━━━━━━━━━━\u001b[0m\u001b[37m\u001b[0m \u001b[1m0s\u001b[0m 3ms/step - attrition_output_accuracy: 0.8819 - attrition_output_loss: 0.3138 - department_output_accuracy: 0.6901 - department_output_loss: 0.6792 - loss: 0.9930 - val_attrition_output_accuracy: 0.8507 - val_attrition_output_loss: 0.4251 - val_department_output_accuracy: 0.6063 - val_department_output_loss: 0.8324 - val_loss: 1.2604\n",
            "Epoch 4/100\n",
            "\u001b[1m28/28\u001b[0m \u001b[32m━━━━━━━━━━━━━━━━━━━━\u001b[0m\u001b[37m\u001b[0m \u001b[1m0s\u001b[0m 3ms/step - attrition_output_accuracy: 0.8677 - attrition_output_loss: 0.3188 - department_output_accuracy: 0.6803 - department_output_loss: 0.6800 - loss: 0.9987 - val_attrition_output_accuracy: 0.8507 - val_attrition_output_loss: 0.4267 - val_department_output_accuracy: 0.6380 - val_department_output_loss: 0.8509 - val_loss: 1.2806\n",
            "Epoch 5/100\n",
            "\u001b[1m28/28\u001b[0m \u001b[32m━━━━━━━━━━━━━━━━━━━━\u001b[0m\u001b[37m\u001b[0m \u001b[1m0s\u001b[0m 3ms/step - attrition_output_accuracy: 0.8979 - attrition_output_loss: 0.2950 - department_output_accuracy: 0.6743 - department_output_loss: 0.7161 - loss: 1.0106 - val_attrition_output_accuracy: 0.8416 - val_attrition_output_loss: 0.4283 - val_department_output_accuracy: 0.6380 - val_department_output_loss: 0.8469 - val_loss: 1.2784\n",
            "Epoch 6/100\n",
            "\u001b[1m28/28\u001b[0m \u001b[32m━━━━━━━━━━━━━━━━━━━━\u001b[0m\u001b[37m\u001b[0m \u001b[1m0s\u001b[0m 3ms/step - attrition_output_accuracy: 0.8882 - attrition_output_loss: 0.2870 - department_output_accuracy: 0.6777 - department_output_loss: 0.7086 - loss: 0.9952 - val_attrition_output_accuracy: 0.8462 - val_attrition_output_loss: 0.4320 - val_department_output_accuracy: 0.6154 - val_department_output_loss: 0.8374 - val_loss: 1.2726\n",
            "Epoch 7/100\n",
            "\u001b[1m28/28\u001b[0m \u001b[32m━━━━━━━━━━━━━━━━━━━━\u001b[0m\u001b[37m\u001b[0m \u001b[1m0s\u001b[0m 3ms/step - attrition_output_accuracy: 0.8840 - attrition_output_loss: 0.2892 - department_output_accuracy: 0.6771 - department_output_loss: 0.6996 - loss: 0.9891 - val_attrition_output_accuracy: 0.8416 - val_attrition_output_loss: 0.4388 - val_department_output_accuracy: 0.6199 - val_department_output_loss: 0.8461 - val_loss: 1.2884\n",
            "Epoch 8/100\n",
            "\u001b[1m28/28\u001b[0m \u001b[32m━━━━━━━━━━━━━━━━━━━━\u001b[0m\u001b[37m\u001b[0m \u001b[1m0s\u001b[0m 3ms/step - attrition_output_accuracy: 0.8798 - attrition_output_loss: 0.2726 - department_output_accuracy: 0.6923 - department_output_loss: 0.6706 - loss: 0.9433 - val_attrition_output_accuracy: 0.8462 - val_attrition_output_loss: 0.4384 - val_department_output_accuracy: 0.6154 - val_department_output_loss: 0.8500 - val_loss: 1.2920\n",
            "Epoch 9/100\n",
            "\u001b[1m28/28\u001b[0m \u001b[32m━━━━━━━━━━━━━━━━━━━━\u001b[0m\u001b[37m\u001b[0m \u001b[1m0s\u001b[0m 3ms/step - attrition_output_accuracy: 0.9016 - attrition_output_loss: 0.2675 - department_output_accuracy: 0.6920 - department_output_loss: 0.6687 - loss: 0.9360 - val_attrition_output_accuracy: 0.8371 - val_attrition_output_loss: 0.4488 - val_department_output_accuracy: 0.5882 - val_department_output_loss: 0.8518 - val_loss: 1.3042\n",
            "Epoch 10/100\n",
            "\u001b[1m28/28\u001b[0m \u001b[32m━━━━━━━━━━━━━━━━━━━━\u001b[0m\u001b[37m\u001b[0m \u001b[1m0s\u001b[0m 3ms/step - attrition_output_accuracy: 0.9008 - attrition_output_loss: 0.2624 - department_output_accuracy: 0.7210 - department_output_loss: 0.6484 - loss: 0.9104 - val_attrition_output_accuracy: 0.8371 - val_attrition_output_loss: 0.4439 - val_department_output_accuracy: 0.5430 - val_department_output_loss: 0.8492 - val_loss: 1.2969\n",
            "Epoch 11/100\n",
            "\u001b[1m28/28\u001b[0m \u001b[32m━━━━━━━━━━━━━━━━━━━━\u001b[0m\u001b[37m\u001b[0m \u001b[1m0s\u001b[0m 3ms/step - attrition_output_accuracy: 0.8906 - attrition_output_loss: 0.2847 - department_output_accuracy: 0.7288 - department_output_loss: 0.6614 - loss: 0.9462 - val_attrition_output_accuracy: 0.8507 - val_attrition_output_loss: 0.4514 - val_department_output_accuracy: 0.5747 - val_department_output_loss: 0.8484 - val_loss: 1.3037\n",
            "Epoch 12/100\n",
            "\u001b[1m28/28\u001b[0m \u001b[32m━━━━━━━━━━━━━━━━━━━━\u001b[0m\u001b[37m\u001b[0m \u001b[1m0s\u001b[0m 4ms/step - attrition_output_accuracy: 0.8835 - attrition_output_loss: 0.3089 - department_output_accuracy: 0.7190 - department_output_loss: 0.6461 - loss: 0.9549 - val_attrition_output_accuracy: 0.8416 - val_attrition_output_loss: 0.4617 - val_department_output_accuracy: 0.6018 - val_department_output_loss: 0.8569 - val_loss: 1.3226\n",
            "Epoch 13/100\n",
            "\u001b[1m28/28\u001b[0m \u001b[32m━━━━━━━━━━━━━━━━━━━━\u001b[0m\u001b[37m\u001b[0m \u001b[1m0s\u001b[0m 3ms/step - attrition_output_accuracy: 0.8946 - attrition_output_loss: 0.2776 - department_output_accuracy: 0.7216 - department_output_loss: 0.6232 - loss: 0.9006 - val_attrition_output_accuracy: 0.8326 - val_attrition_output_loss: 0.4650 - val_department_output_accuracy: 0.5566 - val_department_output_loss: 0.8685 - val_loss: 1.3381\n",
            "Epoch 14/100\n",
            "\u001b[1m28/28\u001b[0m \u001b[32m━━━━━━━━━━━━━━━━━━━━\u001b[0m\u001b[37m\u001b[0m \u001b[1m0s\u001b[0m 3ms/step - attrition_output_accuracy: 0.8985 - attrition_output_loss: 0.2620 - department_output_accuracy: 0.7199 - department_output_loss: 0.6565 - loss: 0.9181 - val_attrition_output_accuracy: 0.8416 - val_attrition_output_loss: 0.4645 - val_department_output_accuracy: 0.5928 - val_department_output_loss: 0.8710 - val_loss: 1.3402\n",
            "Epoch 15/100\n",
            "\u001b[1m28/28\u001b[0m \u001b[32m━━━━━━━━━━━━━━━━━━━━\u001b[0m\u001b[37m\u001b[0m \u001b[1m0s\u001b[0m 4ms/step - attrition_output_accuracy: 0.9109 - attrition_output_loss: 0.2518 - department_output_accuracy: 0.7230 - department_output_loss: 0.6333 - loss: 0.8851 - val_attrition_output_accuracy: 0.8507 - val_attrition_output_loss: 0.4670 - val_department_output_accuracy: 0.6063 - val_department_output_loss: 0.8872 - val_loss: 1.3586\n",
            "Epoch 16/100\n",
            "\u001b[1m28/28\u001b[0m \u001b[32m━━━━━━━━━━━━━━━━━━━━\u001b[0m\u001b[37m\u001b[0m \u001b[1m0s\u001b[0m 3ms/step - attrition_output_accuracy: 0.9124 - attrition_output_loss: 0.2257 - department_output_accuracy: 0.7479 - department_output_loss: 0.5899 - loss: 0.8160 - val_attrition_output_accuracy: 0.8281 - val_attrition_output_loss: 0.4654 - val_department_output_accuracy: 0.5566 - val_department_output_loss: 0.8836 - val_loss: 1.3537\n",
            "Epoch 17/100\n",
            "\u001b[1m28/28\u001b[0m \u001b[32m━━━━━━━━━━━━━━━━━━━━\u001b[0m\u001b[37m\u001b[0m \u001b[1m0s\u001b[0m 4ms/step - attrition_output_accuracy: 0.9066 - attrition_output_loss: 0.2577 - department_output_accuracy: 0.7279 - department_output_loss: 0.6093 - loss: 0.8669 - val_attrition_output_accuracy: 0.8326 - val_attrition_output_loss: 0.4698 - val_department_output_accuracy: 0.5747 - val_department_output_loss: 0.8873 - val_loss: 1.3617\n",
            "Epoch 18/100\n",
            "\u001b[1m28/28\u001b[0m \u001b[32m━━━━━━━━━━━━━━━━━━━━\u001b[0m\u001b[37m\u001b[0m \u001b[1m0s\u001b[0m 5ms/step - attrition_output_accuracy: 0.9246 - attrition_output_loss: 0.2250 - department_output_accuracy: 0.7223 - department_output_loss: 0.6164 - loss: 0.8413 - val_attrition_output_accuracy: 0.8326 - val_attrition_output_loss: 0.4778 - val_department_output_accuracy: 0.5928 - val_department_output_loss: 0.9095 - val_loss: 1.3920\n",
            "Epoch 19/100\n",
            "\u001b[1m28/28\u001b[0m \u001b[32m━━━━━━━━━━━━━━━━━━━━\u001b[0m\u001b[37m\u001b[0m \u001b[1m0s\u001b[0m 3ms/step - attrition_output_accuracy: 0.9220 - attrition_output_loss: 0.2179 - department_output_accuracy: 0.7513 - department_output_loss: 0.5841 - loss: 0.8017 - val_attrition_output_accuracy: 0.8190 - val_attrition_output_loss: 0.4782 - val_department_output_accuracy: 0.5430 - val_department_output_loss: 0.8995 - val_loss: 1.3829\n",
            "Epoch 20/100\n",
            "\u001b[1m28/28\u001b[0m \u001b[32m━━━━━━━━━━━━━━━━━━━━\u001b[0m\u001b[37m\u001b[0m \u001b[1m0s\u001b[0m 3ms/step - attrition_output_accuracy: 0.9039 - attrition_output_loss: 0.2430 - department_output_accuracy: 0.7529 - department_output_loss: 0.5939 - loss: 0.8366 - val_attrition_output_accuracy: 0.8190 - val_attrition_output_loss: 0.4864 - val_department_output_accuracy: 0.5656 - val_department_output_loss: 0.9262 - val_loss: 1.4178\n",
            "Epoch 21/100\n",
            "\u001b[1m28/28\u001b[0m \u001b[32m━━━━━━━━━━━━━━━━━━━━\u001b[0m\u001b[37m\u001b[0m \u001b[1m0s\u001b[0m 3ms/step - attrition_output_accuracy: 0.8974 - attrition_output_loss: 0.2594 - department_output_accuracy: 0.7642 - department_output_loss: 0.5652 - loss: 0.8245 - val_attrition_output_accuracy: 0.8281 - val_attrition_output_loss: 0.4883 - val_department_output_accuracy: 0.5475 - val_department_output_loss: 0.9245 - val_loss: 1.4182\n",
            "Epoch 22/100\n",
            "\u001b[1m28/28\u001b[0m \u001b[32m━━━━━━━━━━━━━━━━━━━━\u001b[0m\u001b[37m\u001b[0m \u001b[1m0s\u001b[0m 3ms/step - attrition_output_accuracy: 0.9194 - attrition_output_loss: 0.2168 - department_output_accuracy: 0.7660 - department_output_loss: 0.5535 - loss: 0.7704 - val_attrition_output_accuracy: 0.8281 - val_attrition_output_loss: 0.4904 - val_department_output_accuracy: 0.5701 - val_department_output_loss: 0.9367 - val_loss: 1.4329\n",
            "Epoch 23/100\n",
            "\u001b[1m28/28\u001b[0m \u001b[32m━━━━━━━━━━━━━━━━━━━━\u001b[0m\u001b[37m\u001b[0m \u001b[1m0s\u001b[0m 3ms/step - attrition_output_accuracy: 0.9064 - attrition_output_loss: 0.2310 - department_output_accuracy: 0.7544 - department_output_loss: 0.5824 - loss: 0.8130 - val_attrition_output_accuracy: 0.8235 - val_attrition_output_loss: 0.4920 - val_department_output_accuracy: 0.5882 - val_department_output_loss: 0.9792 - val_loss: 1.4772\n",
            "Epoch 24/100\n",
            "\u001b[1m28/28\u001b[0m \u001b[32m━━━━━━━━━━━━━━━━━━━━\u001b[0m\u001b[37m\u001b[0m \u001b[1m0s\u001b[0m 3ms/step - attrition_output_accuracy: 0.9198 - attrition_output_loss: 0.2256 - department_output_accuracy: 0.7527 - department_output_loss: 0.5650 - loss: 0.7906 - val_attrition_output_accuracy: 0.8054 - val_attrition_output_loss: 0.5042 - val_department_output_accuracy: 0.5928 - val_department_output_loss: 0.9617 - val_loss: 1.4720\n",
            "Epoch 25/100\n",
            "\u001b[1m28/28\u001b[0m \u001b[32m━━━━━━━━━━━━━━━━━━━━\u001b[0m\u001b[37m\u001b[0m \u001b[1m0s\u001b[0m 4ms/step - attrition_output_accuracy: 0.9289 - attrition_output_loss: 0.2300 - department_output_accuracy: 0.7781 - department_output_loss: 0.5526 - loss: 0.7827 - val_attrition_output_accuracy: 0.8054 - val_attrition_output_loss: 0.5108 - val_department_output_accuracy: 0.5249 - val_department_output_loss: 0.9831 - val_loss: 1.5004\n",
            "Epoch 26/100\n",
            "\u001b[1m28/28\u001b[0m \u001b[32m━━━━━━━━━━━━━━━━━━━━\u001b[0m\u001b[37m\u001b[0m \u001b[1m0s\u001b[0m 3ms/step - attrition_output_accuracy: 0.9047 - attrition_output_loss: 0.2262 - department_output_accuracy: 0.7771 - department_output_loss: 0.5248 - loss: 0.7511 - val_attrition_output_accuracy: 0.8054 - val_attrition_output_loss: 0.5134 - val_department_output_accuracy: 0.5656 - val_department_output_loss: 0.9788 - val_loss: 1.4985\n",
            "Epoch 27/100\n",
            "\u001b[1m28/28\u001b[0m \u001b[32m━━━━━━━━━━━━━━━━━━━━\u001b[0m\u001b[37m\u001b[0m \u001b[1m0s\u001b[0m 3ms/step - attrition_output_accuracy: 0.9184 - attrition_output_loss: 0.2079 - department_output_accuracy: 0.7606 - department_output_loss: 0.5418 - loss: 0.7493 - val_attrition_output_accuracy: 0.8100 - val_attrition_output_loss: 0.5206 - val_department_output_accuracy: 0.5792 - val_department_output_loss: 1.0081 - val_loss: 1.5348\n",
            "Epoch 28/100\n",
            "\u001b[1m28/28\u001b[0m \u001b[32m━━━━━━━━━━━━━━━━━━━━\u001b[0m\u001b[37m\u001b[0m \u001b[1m0s\u001b[0m 3ms/step - attrition_output_accuracy: 0.9113 - attrition_output_loss: 0.2481 - department_output_accuracy: 0.7784 - department_output_loss: 0.5268 - loss: 0.7750 - val_attrition_output_accuracy: 0.8100 - val_attrition_output_loss: 0.5251 - val_department_output_accuracy: 0.5339 - val_department_output_loss: 1.0160 - val_loss: 1.5479\n",
            "Epoch 29/100\n",
            "\u001b[1m28/28\u001b[0m \u001b[32m━━━━━━━━━━━━━━━━━━━━\u001b[0m\u001b[37m\u001b[0m \u001b[1m0s\u001b[0m 3ms/step - attrition_output_accuracy: 0.9290 - attrition_output_loss: 0.1892 - department_output_accuracy: 0.7713 - department_output_loss: 0.5344 - loss: 0.7236 - val_attrition_output_accuracy: 0.7964 - val_attrition_output_loss: 0.5267 - val_department_output_accuracy: 0.5520 - val_department_output_loss: 0.9935 - val_loss: 1.5262\n",
            "Epoch 30/100\n",
            "\u001b[1m28/28\u001b[0m \u001b[32m━━━━━━━━━━━━━━━━━━━━\u001b[0m\u001b[37m\u001b[0m \u001b[1m0s\u001b[0m 3ms/step - attrition_output_accuracy: 0.9146 - attrition_output_loss: 0.2081 - department_output_accuracy: 0.8126 - department_output_loss: 0.5006 - loss: 0.7089 - val_attrition_output_accuracy: 0.8100 - val_attrition_output_loss: 0.5196 - val_department_output_accuracy: 0.4932 - val_department_output_loss: 1.0418 - val_loss: 1.5677\n",
            "Epoch 31/100\n",
            "\u001b[1m28/28\u001b[0m \u001b[32m━━━━━━━━━━━━━━━━━━━━\u001b[0m\u001b[37m\u001b[0m \u001b[1m0s\u001b[0m 4ms/step - attrition_output_accuracy: 0.9261 - attrition_output_loss: 0.1982 - department_output_accuracy: 0.7975 - department_output_loss: 0.5072 - loss: 0.7056 - val_attrition_output_accuracy: 0.8145 - val_attrition_output_loss: 0.5307 - val_department_output_accuracy: 0.5566 - val_department_output_loss: 1.0572 - val_loss: 1.5951\n",
            "Epoch 32/100\n",
            "\u001b[1m28/28\u001b[0m \u001b[32m━━━━━━━━━━━━━━━━━━━━\u001b[0m\u001b[37m\u001b[0m \u001b[1m0s\u001b[0m 4ms/step - attrition_output_accuracy: 0.9272 - attrition_output_loss: 0.1889 - department_output_accuracy: 0.8175 - department_output_loss: 0.4743 - loss: 0.6631 - val_attrition_output_accuracy: 0.8281 - val_attrition_output_loss: 0.5364 - val_department_output_accuracy: 0.5566 - val_department_output_loss: 1.0469 - val_loss: 1.5904\n",
            "Epoch 33/100\n",
            "\u001b[1m28/28\u001b[0m \u001b[32m━━━━━━━━━━━━━━━━━━━━\u001b[0m\u001b[37m\u001b[0m \u001b[1m0s\u001b[0m 3ms/step - attrition_output_accuracy: 0.9292 - attrition_output_loss: 0.1922 - department_output_accuracy: 0.8090 - department_output_loss: 0.4907 - loss: 0.6831 - val_attrition_output_accuracy: 0.7964 - val_attrition_output_loss: 0.5447 - val_department_output_accuracy: 0.5747 - val_department_output_loss: 1.0541 - val_loss: 1.6060\n",
            "Epoch 34/100\n",
            "\u001b[1m28/28\u001b[0m \u001b[32m━━━━━━━━━━━━━━━━━━━━\u001b[0m\u001b[37m\u001b[0m \u001b[1m0s\u001b[0m 3ms/step - attrition_output_accuracy: 0.9262 - attrition_output_loss: 0.1902 - department_output_accuracy: 0.8043 - department_output_loss: 0.4802 - loss: 0.6703 - val_attrition_output_accuracy: 0.7873 - val_attrition_output_loss: 0.5551 - val_department_output_accuracy: 0.5611 - val_department_output_loss: 1.0598 - val_loss: 1.6218\n",
            "Epoch 35/100\n",
            "\u001b[1m28/28\u001b[0m \u001b[32m━━━━━━━━━━━━━━━━━━━━\u001b[0m\u001b[37m\u001b[0m \u001b[1m0s\u001b[0m 4ms/step - attrition_output_accuracy: 0.9106 - attrition_output_loss: 0.2042 - department_output_accuracy: 0.8089 - department_output_loss: 0.4696 - loss: 0.6735 - val_attrition_output_accuracy: 0.8009 - val_attrition_output_loss: 0.5565 - val_department_output_accuracy: 0.5023 - val_department_output_loss: 1.1258 - val_loss: 1.6901\n",
            "Epoch 36/100\n",
            "\u001b[1m28/28\u001b[0m \u001b[32m━━━━━━━━━━━━━━━━━━━━\u001b[0m\u001b[37m\u001b[0m \u001b[1m0s\u001b[0m 4ms/step - attrition_output_accuracy: 0.9360 - attrition_output_loss: 0.1784 - department_output_accuracy: 0.8317 - department_output_loss: 0.4640 - loss: 0.6426 - val_attrition_output_accuracy: 0.8190 - val_attrition_output_loss: 0.5763 - val_department_output_accuracy: 0.5656 - val_department_output_loss: 1.1085 - val_loss: 1.6920\n",
            "Epoch 37/100\n",
            "\u001b[1m28/28\u001b[0m \u001b[32m━━━━━━━━━━━━━━━━━━━━\u001b[0m\u001b[37m\u001b[0m \u001b[1m0s\u001b[0m 4ms/step - attrition_output_accuracy: 0.9200 - attrition_output_loss: 0.2029 - department_output_accuracy: 0.8464 - department_output_loss: 0.4204 - loss: 0.6236 - val_attrition_output_accuracy: 0.8145 - val_attrition_output_loss: 0.5904 - val_department_output_accuracy: 0.5294 - val_department_output_loss: 1.1217 - val_loss: 1.7193\n",
            "Epoch 38/100\n",
            "\u001b[1m28/28\u001b[0m \u001b[32m━━━━━━━━━━━━━━━━━━━━\u001b[0m\u001b[37m\u001b[0m \u001b[1m0s\u001b[0m 4ms/step - attrition_output_accuracy: 0.9304 - attrition_output_loss: 0.1825 - department_output_accuracy: 0.8673 - department_output_loss: 0.3899 - loss: 0.5727 - val_attrition_output_accuracy: 0.8054 - val_attrition_output_loss: 0.5692 - val_department_output_accuracy: 0.5204 - val_department_output_loss: 1.1108 - val_loss: 1.6873\n",
            "Epoch 39/100\n",
            "\u001b[1m28/28\u001b[0m \u001b[32m━━━━━━━━━━━━━━━━━━━━\u001b[0m\u001b[37m\u001b[0m \u001b[1m0s\u001b[0m 6ms/step - attrition_output_accuracy: 0.9419 - attrition_output_loss: 0.1673 - department_output_accuracy: 0.8458 - department_output_loss: 0.4053 - loss: 0.5726 - val_attrition_output_accuracy: 0.8100 - val_attrition_output_loss: 0.6026 - val_department_output_accuracy: 0.4932 - val_department_output_loss: 1.1981 - val_loss: 1.8093\n",
            "Epoch 40/100\n",
            "\u001b[1m28/28\u001b[0m \u001b[32m━━━━━━━━━━━━━━━━━━━━\u001b[0m\u001b[37m\u001b[0m \u001b[1m0s\u001b[0m 3ms/step - attrition_output_accuracy: 0.9222 - attrition_output_loss: 0.1793 - department_output_accuracy: 0.8360 - department_output_loss: 0.4044 - loss: 0.5834 - val_attrition_output_accuracy: 0.7964 - val_attrition_output_loss: 0.6054 - val_department_output_accuracy: 0.5294 - val_department_output_loss: 1.1585 - val_loss: 1.7717\n",
            "Epoch 41/100\n",
            "\u001b[1m28/28\u001b[0m \u001b[32m━━━━━━━━━━━━━━━━━━━━\u001b[0m\u001b[37m\u001b[0m \u001b[1m0s\u001b[0m 3ms/step - attrition_output_accuracy: 0.9368 - attrition_output_loss: 0.1697 - department_output_accuracy: 0.8790 - department_output_loss: 0.3842 - loss: 0.5539 - val_attrition_output_accuracy: 0.7919 - val_attrition_output_loss: 0.6045 - val_department_output_accuracy: 0.5339 - val_department_output_loss: 1.1882 - val_loss: 1.8007\n",
            "Epoch 42/100\n",
            "\u001b[1m28/28\u001b[0m \u001b[32m━━━━━━━━━━━━━━━━━━━━\u001b[0m\u001b[37m\u001b[0m \u001b[1m0s\u001b[0m 4ms/step - attrition_output_accuracy: 0.9319 - attrition_output_loss: 0.1765 - department_output_accuracy: 0.8628 - department_output_loss: 0.3894 - loss: 0.5658 - val_attrition_output_accuracy: 0.7873 - val_attrition_output_loss: 0.6127 - val_department_output_accuracy: 0.5023 - val_department_output_loss: 1.2101 - val_loss: 1.8308\n",
            "Epoch 43/100\n",
            "\u001b[1m28/28\u001b[0m \u001b[32m━━━━━━━━━━━━━━━━━━━━\u001b[0m\u001b[37m\u001b[0m \u001b[1m0s\u001b[0m 3ms/step - attrition_output_accuracy: 0.9463 - attrition_output_loss: 0.1528 - department_output_accuracy: 0.8706 - department_output_loss: 0.3842 - loss: 0.5369 - val_attrition_output_accuracy: 0.7964 - val_attrition_output_loss: 0.6294 - val_department_output_accuracy: 0.5656 - val_department_output_loss: 1.2047 - val_loss: 1.8415\n",
            "Epoch 44/100\n",
            "\u001b[1m28/28\u001b[0m \u001b[32m━━━━━━━━━━━━━━━━━━━━\u001b[0m\u001b[37m\u001b[0m \u001b[1m0s\u001b[0m 3ms/step - attrition_output_accuracy: 0.9301 - attrition_output_loss: 0.1761 - department_output_accuracy: 0.8606 - department_output_loss: 0.3761 - loss: 0.5522 - val_attrition_output_accuracy: 0.7964 - val_attrition_output_loss: 0.6365 - val_department_output_accuracy: 0.5475 - val_department_output_loss: 1.2665 - val_loss: 1.9111\n",
            "Epoch 45/100\n",
            "\u001b[1m28/28\u001b[0m \u001b[32m━━━━━━━━━━━━━━━━━━━━\u001b[0m\u001b[37m\u001b[0m \u001b[1m0s\u001b[0m 4ms/step - attrition_output_accuracy: 0.9467 - attrition_output_loss: 0.1525 - department_output_accuracy: 0.8553 - department_output_loss: 0.4000 - loss: 0.5528 - val_attrition_output_accuracy: 0.8054 - val_attrition_output_loss: 0.6386 - val_department_output_accuracy: 0.5204 - val_department_output_loss: 1.2851 - val_loss: 1.9330\n",
            "Epoch 46/100\n",
            "\u001b[1m28/28\u001b[0m \u001b[32m━━━━━━━━━━━━━━━━━━━━\u001b[0m\u001b[37m\u001b[0m \u001b[1m0s\u001b[0m 4ms/step - attrition_output_accuracy: 0.9493 - attrition_output_loss: 0.1440 - department_output_accuracy: 0.8694 - department_output_loss: 0.3745 - loss: 0.5188 - val_attrition_output_accuracy: 0.8145 - val_attrition_output_loss: 0.6744 - val_department_output_accuracy: 0.5430 - val_department_output_loss: 1.2670 - val_loss: 1.9489\n",
            "Epoch 47/100\n",
            "\u001b[1m28/28\u001b[0m \u001b[32m━━━━━━━━━━━━━━━━━━━━\u001b[0m\u001b[37m\u001b[0m \u001b[1m0s\u001b[0m 3ms/step - attrition_output_accuracy: 0.9339 - attrition_output_loss: 0.1588 - department_output_accuracy: 0.8811 - department_output_loss: 0.3539 - loss: 0.5123 - val_attrition_output_accuracy: 0.7919 - val_attrition_output_loss: 0.6519 - val_department_output_accuracy: 0.5068 - val_department_output_loss: 1.2858 - val_loss: 1.9457\n",
            "Epoch 48/100\n",
            "\u001b[1m28/28\u001b[0m \u001b[32m━━━━━━━━━━━━━━━━━━━━\u001b[0m\u001b[37m\u001b[0m \u001b[1m0s\u001b[0m 3ms/step - attrition_output_accuracy: 0.9464 - attrition_output_loss: 0.1347 - department_output_accuracy: 0.8788 - department_output_loss: 0.3489 - loss: 0.4837 - val_attrition_output_accuracy: 0.7873 - val_attrition_output_loss: 0.6660 - val_department_output_accuracy: 0.5294 - val_department_output_loss: 1.2872 - val_loss: 1.9610\n",
            "Epoch 49/100\n",
            "\u001b[1m28/28\u001b[0m \u001b[32m━━━━━━━━━━━━━━━━━━━━\u001b[0m\u001b[37m\u001b[0m \u001b[1m0s\u001b[0m 5ms/step - attrition_output_accuracy: 0.9500 - attrition_output_loss: 0.1475 - department_output_accuracy: 0.8894 - department_output_loss: 0.3199 - loss: 0.4674 - val_attrition_output_accuracy: 0.7964 - val_attrition_output_loss: 0.6820 - val_department_output_accuracy: 0.5204 - val_department_output_loss: 1.3329 - val_loss: 2.0229\n",
            "Epoch 50/100\n",
            "\u001b[1m28/28\u001b[0m \u001b[32m━━━━━━━━━━━━━━━━━━━━\u001b[0m\u001b[37m\u001b[0m \u001b[1m0s\u001b[0m 4ms/step - attrition_output_accuracy: 0.9522 - attrition_output_loss: 0.1413 - department_output_accuracy: 0.8800 - department_output_loss: 0.3326 - loss: 0.4736 - val_attrition_output_accuracy: 0.8054 - val_attrition_output_loss: 0.7022 - val_department_output_accuracy: 0.5566 - val_department_output_loss: 1.3441 - val_loss: 2.0540\n",
            "Epoch 51/100\n",
            "\u001b[1m28/28\u001b[0m \u001b[32m━━━━━━━━━━━━━━━━━━━━\u001b[0m\u001b[37m\u001b[0m \u001b[1m0s\u001b[0m 3ms/step - attrition_output_accuracy: 0.9347 - attrition_output_loss: 0.1561 - department_output_accuracy: 0.8763 - department_output_loss: 0.3276 - loss: 0.4832 - val_attrition_output_accuracy: 0.7873 - val_attrition_output_loss: 0.6867 - val_department_output_accuracy: 0.5113 - val_department_output_loss: 1.4002 - val_loss: 2.0953\n",
            "Epoch 52/100\n",
            "\u001b[1m28/28\u001b[0m \u001b[32m━━━━━━━━━━━━━━━━━━━━\u001b[0m\u001b[37m\u001b[0m \u001b[1m0s\u001b[0m 3ms/step - attrition_output_accuracy: 0.9554 - attrition_output_loss: 0.1414 - department_output_accuracy: 0.8628 - department_output_loss: 0.3476 - loss: 0.4891 - val_attrition_output_accuracy: 0.7964 - val_attrition_output_loss: 0.7200 - val_department_output_accuracy: 0.5204 - val_department_output_loss: 1.3895 - val_loss: 2.1180\n",
            "Epoch 53/100\n",
            "\u001b[1m28/28\u001b[0m \u001b[32m━━━━━━━━━━━━━━━━━━━━\u001b[0m\u001b[37m\u001b[0m \u001b[1m0s\u001b[0m 4ms/step - attrition_output_accuracy: 0.9391 - attrition_output_loss: 0.1472 - department_output_accuracy: 0.8976 - department_output_loss: 0.2926 - loss: 0.4399 - val_attrition_output_accuracy: 0.7647 - val_attrition_output_loss: 0.7223 - val_department_output_accuracy: 0.5204 - val_department_output_loss: 1.3934 - val_loss: 2.1250\n",
            "Epoch 54/100\n",
            "\u001b[1m28/28\u001b[0m \u001b[32m━━━━━━━━━━━━━━━━━━━━\u001b[0m\u001b[37m\u001b[0m \u001b[1m0s\u001b[0m 3ms/step - attrition_output_accuracy: 0.9541 - attrition_output_loss: 0.1258 - department_output_accuracy: 0.9009 - department_output_loss: 0.2987 - loss: 0.4247 - val_attrition_output_accuracy: 0.7692 - val_attrition_output_loss: 0.7386 - val_department_output_accuracy: 0.5113 - val_department_output_loss: 1.4223 - val_loss: 2.1688\n",
            "Epoch 55/100\n",
            "\u001b[1m28/28\u001b[0m \u001b[32m━━━━━━━━━━━━━━━━━━━━\u001b[0m\u001b[37m\u001b[0m \u001b[1m0s\u001b[0m 3ms/step - attrition_output_accuracy: 0.9528 - attrition_output_loss: 0.1283 - department_output_accuracy: 0.9100 - department_output_loss: 0.2846 - loss: 0.4130 - val_attrition_output_accuracy: 0.7873 - val_attrition_output_loss: 0.7488 - val_department_output_accuracy: 0.4887 - val_department_output_loss: 1.4078 - val_loss: 2.1649\n",
            "Epoch 56/100\n",
            "\u001b[1m28/28\u001b[0m \u001b[32m━━━━━━━━━━━━━━━━━━━━\u001b[0m\u001b[37m\u001b[0m \u001b[1m0s\u001b[0m 4ms/step - attrition_output_accuracy: 0.9603 - attrition_output_loss: 0.1164 - department_output_accuracy: 0.9060 - department_output_loss: 0.2827 - loss: 0.3992 - val_attrition_output_accuracy: 0.8009 - val_attrition_output_loss: 0.7459 - val_department_output_accuracy: 0.4887 - val_department_output_loss: 1.5107 - val_loss: 2.2659\n",
            "Epoch 57/100\n",
            "\u001b[1m28/28\u001b[0m \u001b[32m━━━━━━━━━━━━━━━━━━━━\u001b[0m\u001b[37m\u001b[0m \u001b[1m0s\u001b[0m 4ms/step - attrition_output_accuracy: 0.9556 - attrition_output_loss: 0.1331 - department_output_accuracy: 0.9158 - department_output_loss: 0.2806 - loss: 0.4136 - val_attrition_output_accuracy: 0.7964 - val_attrition_output_loss: 0.8008 - val_department_output_accuracy: 0.5339 - val_department_output_loss: 1.5436 - val_loss: 2.3528\n",
            "Epoch 58/100\n",
            "\u001b[1m28/28\u001b[0m \u001b[32m━━━━━━━━━━━━━━━━━━━━\u001b[0m\u001b[37m\u001b[0m \u001b[1m0s\u001b[0m 3ms/step - attrition_output_accuracy: 0.9407 - attrition_output_loss: 0.1401 - department_output_accuracy: 0.8945 - department_output_loss: 0.2873 - loss: 0.4276 - val_attrition_output_accuracy: 0.7692 - val_attrition_output_loss: 0.7727 - val_department_output_accuracy: 0.4796 - val_department_output_loss: 1.5325 - val_loss: 2.3141\n",
            "Epoch 59/100\n",
            "\u001b[1m28/28\u001b[0m \u001b[32m━━━━━━━━━━━━━━━━━━━━\u001b[0m\u001b[37m\u001b[0m \u001b[1m0s\u001b[0m 5ms/step - attrition_output_accuracy: 0.9752 - attrition_output_loss: 0.1046 - department_output_accuracy: 0.9218 - department_output_loss: 0.2612 - loss: 0.3654 - val_attrition_output_accuracy: 0.7783 - val_attrition_output_loss: 0.8117 - val_department_output_accuracy: 0.5068 - val_department_output_loss: 1.5472 - val_loss: 2.3685\n",
            "Epoch 60/100\n",
            "\u001b[1m28/28\u001b[0m \u001b[32m━━━━━━━━━━━━━━━━━━━━\u001b[0m\u001b[37m\u001b[0m \u001b[1m0s\u001b[0m 4ms/step - attrition_output_accuracy: 0.9581 - attrition_output_loss: 0.1125 - department_output_accuracy: 0.9239 - department_output_loss: 0.2386 - loss: 0.3511 - val_attrition_output_accuracy: 0.7738 - val_attrition_output_loss: 0.7901 - val_department_output_accuracy: 0.5430 - val_department_output_loss: 1.5194 - val_loss: 2.3183\n",
            "Epoch 61/100\n",
            "\u001b[1m28/28\u001b[0m \u001b[32m━━━━━━━━━━━━━━━━━━━━\u001b[0m\u001b[37m\u001b[0m \u001b[1m0s\u001b[0m 3ms/step - attrition_output_accuracy: 0.9636 - attrition_output_loss: 0.1127 - department_output_accuracy: 0.9228 - department_output_loss: 0.2559 - loss: 0.3686 - val_attrition_output_accuracy: 0.7692 - val_attrition_output_loss: 0.8441 - val_department_output_accuracy: 0.4977 - val_department_output_loss: 1.6312 - val_loss: 2.4848\n",
            "Epoch 62/100\n",
            "\u001b[1m28/28\u001b[0m \u001b[32m━━━━━━━━━━━━━━━━━━━━\u001b[0m\u001b[37m\u001b[0m \u001b[1m0s\u001b[0m 4ms/step - attrition_output_accuracy: 0.9532 - attrition_output_loss: 0.1179 - department_output_accuracy: 0.9257 - department_output_loss: 0.2453 - loss: 0.3633 - val_attrition_output_accuracy: 0.7783 - val_attrition_output_loss: 0.8507 - val_department_output_accuracy: 0.5158 - val_department_output_loss: 1.5529 - val_loss: 2.4134\n",
            "Epoch 63/100\n",
            "\u001b[1m28/28\u001b[0m \u001b[32m━━━━━━━━━━━━━━━━━━━━\u001b[0m\u001b[37m\u001b[0m \u001b[1m0s\u001b[0m 4ms/step - attrition_output_accuracy: 0.9586 - attrition_output_loss: 0.1068 - department_output_accuracy: 0.9258 - department_output_loss: 0.2583 - loss: 0.3649 - val_attrition_output_accuracy: 0.7738 - val_attrition_output_loss: 0.8467 - val_department_output_accuracy: 0.5475 - val_department_output_loss: 1.6511 - val_loss: 2.5057\n",
            "Epoch 64/100\n",
            "\u001b[1m28/28\u001b[0m \u001b[32m━━━━━━━━━━━━━━━━━━━━\u001b[0m\u001b[37m\u001b[0m \u001b[1m0s\u001b[0m 3ms/step - attrition_output_accuracy: 0.9554 - attrition_output_loss: 0.1151 - department_output_accuracy: 0.9282 - department_output_loss: 0.2284 - loss: 0.3436 - val_attrition_output_accuracy: 0.7602 - val_attrition_output_loss: 0.8611 - val_department_output_accuracy: 0.4977 - val_department_output_loss: 1.6917 - val_loss: 2.5623\n",
            "Epoch 65/100\n",
            "\u001b[1m28/28\u001b[0m \u001b[32m━━━━━━━━━━━━━━━━━━━━\u001b[0m\u001b[37m\u001b[0m \u001b[1m0s\u001b[0m 4ms/step - attrition_output_accuracy: 0.9698 - attrition_output_loss: 0.0968 - department_output_accuracy: 0.9262 - department_output_loss: 0.2496 - loss: 0.3464 - val_attrition_output_accuracy: 0.7692 - val_attrition_output_loss: 0.9063 - val_department_output_accuracy: 0.4887 - val_department_output_loss: 1.6513 - val_loss: 2.5675\n",
            "Epoch 66/100\n",
            "\u001b[1m28/28\u001b[0m \u001b[32m━━━━━━━━━━━━━━━━━━━━\u001b[0m\u001b[37m\u001b[0m \u001b[1m0s\u001b[0m 3ms/step - attrition_output_accuracy: 0.9764 - attrition_output_loss: 0.0853 - department_output_accuracy: 0.9371 - department_output_loss: 0.2149 - loss: 0.3003 - val_attrition_output_accuracy: 0.7647 - val_attrition_output_loss: 0.8860 - val_department_output_accuracy: 0.5204 - val_department_output_loss: 1.6509 - val_loss: 2.5460\n",
            "Epoch 67/100\n",
            "\u001b[1m28/28\u001b[0m \u001b[32m━━━━━━━━━━━━━━━━━━━━\u001b[0m\u001b[37m\u001b[0m \u001b[1m0s\u001b[0m 3ms/step - attrition_output_accuracy: 0.9747 - attrition_output_loss: 0.0842 - department_output_accuracy: 0.9354 - department_output_loss: 0.2141 - loss: 0.2981 - val_attrition_output_accuracy: 0.7692 - val_attrition_output_loss: 0.9290 - val_department_output_accuracy: 0.4977 - val_department_output_loss: 1.7374 - val_loss: 2.6763\n",
            "Epoch 68/100\n",
            "\u001b[1m28/28\u001b[0m \u001b[32m━━━━━━━━━━━━━━━━━━━━\u001b[0m\u001b[37m\u001b[0m \u001b[1m0s\u001b[0m 3ms/step - attrition_output_accuracy: 0.9783 - attrition_output_loss: 0.0817 - department_output_accuracy: 0.9362 - department_output_loss: 0.2272 - loss: 0.3088 - val_attrition_output_accuracy: 0.7692 - val_attrition_output_loss: 0.9526 - val_department_output_accuracy: 0.5113 - val_department_output_loss: 1.6796 - val_loss: 2.6404\n",
            "Epoch 69/100\n",
            "\u001b[1m28/28\u001b[0m \u001b[32m━━━━━━━━━━━━━━━━━━━━\u001b[0m\u001b[37m\u001b[0m \u001b[1m0s\u001b[0m 3ms/step - attrition_output_accuracy: 0.9745 - attrition_output_loss: 0.0858 - department_output_accuracy: 0.9369 - department_output_loss: 0.2237 - loss: 0.3095 - val_attrition_output_accuracy: 0.7647 - val_attrition_output_loss: 0.9313 - val_department_output_accuracy: 0.5158 - val_department_output_loss: 1.7731 - val_loss: 2.7145\n",
            "Epoch 70/100\n",
            "\u001b[1m28/28\u001b[0m \u001b[32m━━━━━━━━━━━━━━━━━━━━\u001b[0m\u001b[37m\u001b[0m \u001b[1m0s\u001b[0m 4ms/step - attrition_output_accuracy: 0.9722 - attrition_output_loss: 0.0811 - department_output_accuracy: 0.9409 - department_output_loss: 0.2239 - loss: 0.3051 - val_attrition_output_accuracy: 0.7647 - val_attrition_output_loss: 0.9744 - val_department_output_accuracy: 0.5204 - val_department_output_loss: 1.8582 - val_loss: 2.8434\n",
            "Epoch 71/100\n",
            "\u001b[1m28/28\u001b[0m \u001b[32m━━━━━━━━━━━━━━━━━━━━\u001b[0m\u001b[37m\u001b[0m \u001b[1m0s\u001b[0m 4ms/step - attrition_output_accuracy: 0.9744 - attrition_output_loss: 0.0888 - department_output_accuracy: 0.9229 - department_output_loss: 0.2090 - loss: 0.2977 - val_attrition_output_accuracy: 0.7692 - val_attrition_output_loss: 0.9808 - val_department_output_accuracy: 0.5113 - val_department_output_loss: 1.7974 - val_loss: 2.7881\n",
            "Epoch 72/100\n",
            "\u001b[1m28/28\u001b[0m \u001b[32m━━━━━━━━━━━━━━━━━━━━\u001b[0m\u001b[37m\u001b[0m \u001b[1m0s\u001b[0m 3ms/step - attrition_output_accuracy: 0.9787 - attrition_output_loss: 0.0808 - department_output_accuracy: 0.9384 - department_output_loss: 0.2035 - loss: 0.2843 - val_attrition_output_accuracy: 0.7828 - val_attrition_output_loss: 1.0135 - val_department_output_accuracy: 0.5475 - val_department_output_loss: 1.7859 - val_loss: 2.8078\n",
            "Epoch 73/100\n",
            "\u001b[1m28/28\u001b[0m \u001b[32m━━━━━━━━━━━━━━━━━━━━\u001b[0m\u001b[37m\u001b[0m \u001b[1m0s\u001b[0m 3ms/step - attrition_output_accuracy: 0.9730 - attrition_output_loss: 0.0825 - department_output_accuracy: 0.9333 - department_output_loss: 0.2162 - loss: 0.2986 - val_attrition_output_accuracy: 0.7647 - val_attrition_output_loss: 1.0180 - val_department_output_accuracy: 0.4887 - val_department_output_loss: 1.8147 - val_loss: 2.8423\n",
            "Epoch 74/100\n",
            "\u001b[1m28/28\u001b[0m \u001b[32m━━━━━━━━━━━━━━━━━━━━\u001b[0m\u001b[37m\u001b[0m \u001b[1m0s\u001b[0m 3ms/step - attrition_output_accuracy: 0.9784 - attrition_output_loss: 0.0700 - department_output_accuracy: 0.9407 - department_output_loss: 0.1867 - loss: 0.2567 - val_attrition_output_accuracy: 0.7557 - val_attrition_output_loss: 1.0400 - val_department_output_accuracy: 0.4932 - val_department_output_loss: 1.8491 - val_loss: 2.8996\n",
            "Epoch 75/100\n",
            "\u001b[1m28/28\u001b[0m \u001b[32m━━━━━━━━━━━━━━━━━━━━\u001b[0m\u001b[37m\u001b[0m \u001b[1m0s\u001b[0m 4ms/step - attrition_output_accuracy: 0.9805 - attrition_output_loss: 0.0675 - department_output_accuracy: 0.9536 - department_output_loss: 0.1814 - loss: 0.2487 - val_attrition_output_accuracy: 0.7466 - val_attrition_output_loss: 1.0699 - val_department_output_accuracy: 0.5520 - val_department_output_loss: 1.8629 - val_loss: 2.9437\n",
            "Epoch 76/100\n",
            "\u001b[1m28/28\u001b[0m \u001b[32m━━━━━━━━━━━━━━━━━━━━\u001b[0m\u001b[37m\u001b[0m \u001b[1m0s\u001b[0m 3ms/step - attrition_output_accuracy: 0.9787 - attrition_output_loss: 0.0782 - department_output_accuracy: 0.9422 - department_output_loss: 0.1655 - loss: 0.2436 - val_attrition_output_accuracy: 0.7647 - val_attrition_output_loss: 1.0650 - val_department_output_accuracy: 0.5204 - val_department_output_loss: 1.8883 - val_loss: 2.9623\n",
            "Epoch 77/100\n",
            "\u001b[1m28/28\u001b[0m \u001b[32m━━━━━━━━━━━━━━━━━━━━\u001b[0m\u001b[37m\u001b[0m \u001b[1m0s\u001b[0m 4ms/step - attrition_output_accuracy: 0.9726 - attrition_output_loss: 0.0741 - department_output_accuracy: 0.9715 - department_output_loss: 0.1702 - loss: 0.2443 - val_attrition_output_accuracy: 0.7692 - val_attrition_output_loss: 1.1020 - val_department_output_accuracy: 0.4977 - val_department_output_loss: 1.9473 - val_loss: 3.0580\n",
            "Epoch 78/100\n",
            "\u001b[1m28/28\u001b[0m \u001b[32m━━━━━━━━━━━━━━━━━━━━\u001b[0m\u001b[37m\u001b[0m \u001b[1m0s\u001b[0m 3ms/step - attrition_output_accuracy: 0.9886 - attrition_output_loss: 0.0555 - department_output_accuracy: 0.9415 - department_output_loss: 0.1966 - loss: 0.2520 - val_attrition_output_accuracy: 0.7602 - val_attrition_output_loss: 1.1176 - val_department_output_accuracy: 0.5023 - val_department_output_loss: 2.0483 - val_loss: 3.1769\n",
            "Epoch 79/100\n",
            "\u001b[1m28/28\u001b[0m \u001b[32m━━━━━━━━━━━━━━━━━━━━\u001b[0m\u001b[37m\u001b[0m \u001b[1m0s\u001b[0m 3ms/step - attrition_output_accuracy: 0.9857 - attrition_output_loss: 0.0621 - department_output_accuracy: 0.9526 - department_output_loss: 0.1671 - loss: 0.2293 - val_attrition_output_accuracy: 0.7466 - val_attrition_output_loss: 1.1889 - val_department_output_accuracy: 0.4932 - val_department_output_loss: 1.9554 - val_loss: 3.1540\n",
            "Epoch 80/100\n",
            "\u001b[1m28/28\u001b[0m \u001b[32m━━━━━━━━━━━━━━━━━━━━\u001b[0m\u001b[37m\u001b[0m \u001b[1m0s\u001b[0m 3ms/step - attrition_output_accuracy: 0.9747 - attrition_output_loss: 0.0725 - department_output_accuracy: 0.9537 - department_output_loss: 0.1631 - loss: 0.2359 - val_attrition_output_accuracy: 0.7466 - val_attrition_output_loss: 1.1214 - val_department_output_accuracy: 0.4796 - val_department_output_loss: 2.0106 - val_loss: 3.1443\n",
            "Epoch 81/100\n",
            "\u001b[1m28/28\u001b[0m \u001b[32m━━━━━━━━━━━━━━━━━━━━\u001b[0m\u001b[37m\u001b[0m \u001b[1m0s\u001b[0m 3ms/step - attrition_output_accuracy: 0.9865 - attrition_output_loss: 0.0579 - department_output_accuracy: 0.9623 - department_output_loss: 0.1697 - loss: 0.2278 - val_attrition_output_accuracy: 0.7421 - val_attrition_output_loss: 1.1965 - val_department_output_accuracy: 0.5158 - val_department_output_loss: 2.0340 - val_loss: 3.2403\n",
            "Epoch 82/100\n",
            "\u001b[1m28/28\u001b[0m \u001b[32m━━━━━━━━━━━━━━━━━━━━\u001b[0m\u001b[37m\u001b[0m \u001b[1m0s\u001b[0m 3ms/step - attrition_output_accuracy: 0.9858 - attrition_output_loss: 0.0641 - department_output_accuracy: 0.9673 - department_output_loss: 0.1666 - loss: 0.2307 - val_attrition_output_accuracy: 0.7511 - val_attrition_output_loss: 1.1858 - val_department_output_accuracy: 0.5204 - val_department_output_loss: 2.0142 - val_loss: 3.2099\n",
            "Epoch 83/100\n",
            "\u001b[1m28/28\u001b[0m \u001b[32m━━━━━━━━━━━━━━━━━━━━\u001b[0m\u001b[37m\u001b[0m \u001b[1m0s\u001b[0m 4ms/step - attrition_output_accuracy: 0.9814 - attrition_output_loss: 0.0537 - department_output_accuracy: 0.9560 - department_output_loss: 0.1523 - loss: 0.2060 - val_attrition_output_accuracy: 0.7376 - val_attrition_output_loss: 1.2234 - val_department_output_accuracy: 0.5113 - val_department_output_loss: 2.0560 - val_loss: 3.2895\n",
            "Epoch 84/100\n",
            "\u001b[1m28/28\u001b[0m \u001b[32m━━━━━━━━━━━━━━━━━━━━\u001b[0m\u001b[37m\u001b[0m \u001b[1m0s\u001b[0m 3ms/step - attrition_output_accuracy: 0.9926 - attrition_output_loss: 0.0541 - department_output_accuracy: 0.9637 - department_output_loss: 0.1565 - loss: 0.2105 - val_attrition_output_accuracy: 0.7557 - val_attrition_output_loss: 1.2399 - val_department_output_accuracy: 0.5204 - val_department_output_loss: 2.0737 - val_loss: 3.3239\n",
            "Epoch 85/100\n",
            "\u001b[1m28/28\u001b[0m \u001b[32m━━━━━━━━━━━━━━━━━━━━\u001b[0m\u001b[37m\u001b[0m \u001b[1m0s\u001b[0m 3ms/step - attrition_output_accuracy: 0.9926 - attrition_output_loss: 0.0464 - department_output_accuracy: 0.9617 - department_output_loss: 0.1536 - loss: 0.1999 - val_attrition_output_accuracy: 0.7511 - val_attrition_output_loss: 1.2685 - val_department_output_accuracy: 0.4977 - val_department_output_loss: 2.0658 - val_loss: 3.3456\n",
            "Epoch 86/100\n",
            "\u001b[1m28/28\u001b[0m \u001b[32m━━━━━━━━━━━━━━━━━━━━\u001b[0m\u001b[37m\u001b[0m \u001b[1m0s\u001b[0m 4ms/step - attrition_output_accuracy: 0.9863 - attrition_output_loss: 0.0526 - department_output_accuracy: 0.9573 - department_output_loss: 0.1472 - loss: 0.1997 - val_attrition_output_accuracy: 0.7738 - val_attrition_output_loss: 1.2555 - val_department_output_accuracy: 0.5158 - val_department_output_loss: 2.1273 - val_loss: 3.3937\n",
            "Epoch 87/100\n",
            "\u001b[1m28/28\u001b[0m \u001b[32m━━━━━━━━━━━━━━━━━━━━\u001b[0m\u001b[37m\u001b[0m \u001b[1m0s\u001b[0m 3ms/step - attrition_output_accuracy: 0.9852 - attrition_output_loss: 0.0584 - department_output_accuracy: 0.9738 - department_output_loss: 0.1524 - loss: 0.2107 - val_attrition_output_accuracy: 0.7557 - val_attrition_output_loss: 1.3293 - val_department_output_accuracy: 0.5158 - val_department_output_loss: 2.1688 - val_loss: 3.5096\n",
            "Epoch 88/100\n",
            "\u001b[1m28/28\u001b[0m \u001b[32m━━━━━━━━━━━━━━━━━━━━\u001b[0m\u001b[37m\u001b[0m \u001b[1m0s\u001b[0m 4ms/step - attrition_output_accuracy: 0.9869 - attrition_output_loss: 0.0580 - department_output_accuracy: 0.9629 - department_output_loss: 0.1260 - loss: 0.1840 - val_attrition_output_accuracy: 0.7511 - val_attrition_output_loss: 1.3382 - val_department_output_accuracy: 0.4932 - val_department_output_loss: 2.1728 - val_loss: 3.5249\n",
            "Epoch 89/100\n",
            "\u001b[1m28/28\u001b[0m \u001b[32m━━━━━━━━━━━━━━━━━━━━\u001b[0m\u001b[37m\u001b[0m \u001b[1m0s\u001b[0m 3ms/step - attrition_output_accuracy: 0.9847 - attrition_output_loss: 0.0544 - department_output_accuracy: 0.9667 - department_output_loss: 0.1379 - loss: 0.1923 - val_attrition_output_accuracy: 0.7511 - val_attrition_output_loss: 1.3225 - val_department_output_accuracy: 0.5339 - val_department_output_loss: 2.1791 - val_loss: 3.5133\n",
            "Epoch 90/100\n",
            "\u001b[1m28/28\u001b[0m \u001b[32m━━━━━━━━━━━━━━━━━━━━\u001b[0m\u001b[37m\u001b[0m \u001b[1m0s\u001b[0m 3ms/step - attrition_output_accuracy: 0.9893 - attrition_output_loss: 0.0438 - department_output_accuracy: 0.9860 - department_output_loss: 0.1212 - loss: 0.1649 - val_attrition_output_accuracy: 0.7557 - val_attrition_output_loss: 1.3604 - val_department_output_accuracy: 0.5430 - val_department_output_loss: 2.2714 - val_loss: 3.6435\n",
            "Epoch 91/100\n",
            "\u001b[1m28/28\u001b[0m \u001b[32m━━━━━━━━━━━━━━━━━━━━\u001b[0m\u001b[37m\u001b[0m \u001b[1m0s\u001b[0m 3ms/step - attrition_output_accuracy: 0.9892 - attrition_output_loss: 0.0444 - department_output_accuracy: 0.9795 - department_output_loss: 0.1154 - loss: 0.1598 - val_attrition_output_accuracy: 0.7376 - val_attrition_output_loss: 1.3541 - val_department_output_accuracy: 0.5023 - val_department_output_loss: 2.2651 - val_loss: 3.6320\n",
            "Epoch 92/100\n",
            "\u001b[1m28/28\u001b[0m \u001b[32m━━━━━━━━━━━━━━━━━━━━\u001b[0m\u001b[37m\u001b[0m \u001b[1m0s\u001b[0m 3ms/step - attrition_output_accuracy: 0.9927 - attrition_output_loss: 0.0422 - department_output_accuracy: 0.9771 - department_output_loss: 0.1181 - loss: 0.1603 - val_attrition_output_accuracy: 0.7511 - val_attrition_output_loss: 1.3691 - val_department_output_accuracy: 0.5385 - val_department_output_loss: 2.2530 - val_loss: 3.6337\n",
            "Epoch 93/100\n",
            "\u001b[1m28/28\u001b[0m \u001b[32m━━━━━━━━━━━━━━━━━━━━\u001b[0m\u001b[37m\u001b[0m \u001b[1m0s\u001b[0m 4ms/step - attrition_output_accuracy: 0.9938 - attrition_output_loss: 0.0394 - department_output_accuracy: 0.9827 - department_output_loss: 0.1055 - loss: 0.1449 - val_attrition_output_accuracy: 0.7376 - val_attrition_output_loss: 1.4568 - val_department_output_accuracy: 0.4796 - val_department_output_loss: 2.4036 - val_loss: 3.8749\n",
            "Epoch 94/100\n",
            "\u001b[1m28/28\u001b[0m \u001b[32m━━━━━━━━━━━━━━━━━━━━\u001b[0m\u001b[37m\u001b[0m \u001b[1m0s\u001b[0m 4ms/step - attrition_output_accuracy: 0.9954 - attrition_output_loss: 0.0388 - department_output_accuracy: 0.9797 - department_output_loss: 0.1166 - loss: 0.1555 - val_attrition_output_accuracy: 0.7557 - val_attrition_output_loss: 1.4491 - val_department_output_accuracy: 0.5249 - val_department_output_loss: 2.2626 - val_loss: 3.7238\n",
            "Epoch 95/100\n",
            "\u001b[1m28/28\u001b[0m \u001b[32m━━━━━━━━━━━━━━━━━━━━\u001b[0m\u001b[37m\u001b[0m \u001b[1m0s\u001b[0m 3ms/step - attrition_output_accuracy: 0.9940 - attrition_output_loss: 0.0354 - department_output_accuracy: 0.9776 - department_output_loss: 0.1159 - loss: 0.1514 - val_attrition_output_accuracy: 0.7466 - val_attrition_output_loss: 1.4650 - val_department_output_accuracy: 0.4977 - val_department_output_loss: 2.3796 - val_loss: 3.8566\n",
            "Epoch 96/100\n",
            "\u001b[1m28/28\u001b[0m \u001b[32m━━━━━━━━━━━━━━━━━━━━\u001b[0m\u001b[37m\u001b[0m \u001b[1m0s\u001b[0m 3ms/step - attrition_output_accuracy: 0.9982 - attrition_output_loss: 0.0349 - department_output_accuracy: 0.9876 - department_output_loss: 0.1048 - loss: 0.1399 - val_attrition_output_accuracy: 0.7466 - val_attrition_output_loss: 1.4944 - val_department_output_accuracy: 0.5294 - val_department_output_loss: 2.3957 - val_loss: 3.9036\n",
            "Epoch 97/100\n",
            "\u001b[1m28/28\u001b[0m \u001b[32m━━━━━━━━━━━━━━━━━━━━\u001b[0m\u001b[37m\u001b[0m \u001b[1m0s\u001b[0m 4ms/step - attrition_output_accuracy: 0.9917 - attrition_output_loss: 0.0383 - department_output_accuracy: 0.9809 - department_output_loss: 0.1074 - loss: 0.1457 - val_attrition_output_accuracy: 0.7557 - val_attrition_output_loss: 1.4608 - val_department_output_accuracy: 0.5158 - val_department_output_loss: 2.3651 - val_loss: 3.8387\n",
            "Epoch 98/100\n",
            "\u001b[1m28/28\u001b[0m \u001b[32m━━━━━━━━━━━━━━━━━━━━\u001b[0m\u001b[37m\u001b[0m \u001b[1m0s\u001b[0m 3ms/step - attrition_output_accuracy: 0.9961 - attrition_output_loss: 0.0382 - department_output_accuracy: 0.9781 - department_output_loss: 0.1100 - loss: 0.1482 - val_attrition_output_accuracy: 0.7376 - val_attrition_output_loss: 1.5626 - val_department_output_accuracy: 0.5113 - val_department_output_loss: 2.4358 - val_loss: 4.0102\n",
            "Epoch 99/100\n",
            "\u001b[1m28/28\u001b[0m \u001b[32m━━━━━━━━━━━━━━━━━━━━\u001b[0m\u001b[37m\u001b[0m \u001b[1m0s\u001b[0m 4ms/step - attrition_output_accuracy: 0.9966 - attrition_output_loss: 0.0281 - department_output_accuracy: 0.9683 - department_output_loss: 0.1161 - loss: 0.1442 - val_attrition_output_accuracy: 0.7557 - val_attrition_output_loss: 1.5175 - val_department_output_accuracy: 0.4887 - val_department_output_loss: 2.4659 - val_loss: 3.9972\n",
            "Epoch 100/100\n",
            "\u001b[1m28/28\u001b[0m \u001b[32m━━━━━━━━━━━━━━━━━━━━\u001b[0m\u001b[37m\u001b[0m \u001b[1m0s\u001b[0m 3ms/step - attrition_output_accuracy: 0.9921 - attrition_output_loss: 0.0333 - department_output_accuracy: 0.9834 - department_output_loss: 0.0923 - loss: 0.1254 - val_attrition_output_accuracy: 0.7511 - val_attrition_output_loss: 1.5758 - val_department_output_accuracy: 0.4932 - val_department_output_loss: 2.5289 - val_loss: 4.1199\n"
          ]
        },
        {
          "data": {
            "text/plain": [
              "<keras.src.callbacks.history.History at 0x28c499ee300>"
            ]
          },
          "execution_count": 174,
          "metadata": {},
          "output_type": "execute_result"
        }
      ],
      "source": [
        "# Train the model\n",
        "\n",
        "model.fit(\n",
        "    scaled_X_train,\n",
        "    {'department_output': y_department_train_encoded, 'attrition_output': y_attrition_train_encoded},\n",
        "    epochs=100,\n",
        "    batch_size=32,\n",
        "    validation_split=0.2\n",
        "    )\n",
        "    \n"
      ]
    },
    {
      "cell_type": "code",
      "execution_count": 185,
      "metadata": {
        "colab": {
          "base_uri": "https://localhost:8080/"
        },
        "id": "VsMoaQlgGc3U",
        "outputId": "1bd4e601-e964-4abc-ad83-aeecf6b696be"
      },
      "outputs": [
        {
          "name": "stdout",
          "output_type": "stream",
          "text": [
            "\u001b[1m12/12\u001b[0m \u001b[32m━━━━━━━━━━━━━━━━━━━━\u001b[0m\u001b[37m\u001b[0m \u001b[1m0s\u001b[0m 3ms/step - attrition_output_accuracy: 0.7926 - attrition_output_loss: 1.3183 - department_output_accuracy: 0.5166 - department_output_loss: 2.3595 - loss: 3.6968\n"
          ]
        },
        {
          "data": {
            "text/plain": [
              "[3.561210870742798,\n",
              " 2.109060525894165,\n",
              " 1.3286620378494263,\n",
              " 0.804347813129425,\n",
              " 0.551630437374115]"
            ]
          },
          "execution_count": 185,
          "metadata": {},
          "output_type": "execute_result"
        }
      ],
      "source": [
        "# Evaluate the model with the testing data\n",
        "results = model.evaluate(scaled_X_test, {'department_output': y_department_test_encoded, 'attrition_output': y_attrition_test_encoded})\n",
        "results\n",
        "\n"
      ]
    },
    {
      "cell_type": "code",
      "execution_count": 181,
      "metadata": {
        "colab": {
          "base_uri": "https://localhost:8080/"
        },
        "id": "ZlCtlHi0Vt54",
        "outputId": "bc21ef3e-80c2-4b38-9c29-79515bc23dec"
      },
      "outputs": [
        {
          "name": "stdout",
          "output_type": "stream",
          "text": [
            "Department Predictions Accuracy: 0.804347813129425\n",
            "Attrition Predictions Accuracy: 0.551630437374115\n"
          ]
        }
      ],
      "source": [
        "# Print the accuracy for both department and attrition\n",
        "department_accuracy = results[3]\n",
        "attrition_accuracy = results[4]\n",
        "print(f\"Department Predictions Accuracy: {department_accuracy}\")\n",
        "print(f\"Attrition Predictions Accuracy: {attrition_accuracy}\")"
      ]
    },
    {
      "cell_type": "markdown",
      "metadata": {
        "id": "eGSyfsZfWOQM"
      },
      "source": [
        "# Summary\n",
        "\n",
        "In the provided space below, briefly answer the following questions.\n",
        "\n",
        "1. Is accuracy the best metric to use on this data? Why or why not?\n",
        "\n",
        "2. What activation functions did you choose for your output layers, and why?\n",
        "\n",
        "3. Can you name a few ways that this model might be improved?"
      ]
    },
    {
      "cell_type": "markdown",
      "metadata": {
        "id": "pi9SLpFnWvbF"
      },
      "source": [
        "YOUR ANSWERS HERE\n",
        "\n",
        "1. Because our data is likely imbalanced—for example, attrition data typically has many more employees who stay than leave—accuracy can be a misleading metric. A model might achieve high accuracy by predominantly predicting the majority class, without effectively identifying the minority class (e.g., employees who leave). To address this, we should use metrics like precision, recall, and the F1-score, which provide a more balanced evaluation.\n",
        "2. I used the sigmoid activation function for the attrition output because attrition is a binary classification problem. For the department output, I chose softmax because it's a multi-class problem, and softmax enforces mutual exclusivity, ensuring an employee is assigned to only one department.\n",
        "3. We can improve this model in a few ways. First, we could address the class imbalance in the attrition data using SMOTE. Second is feature engineering. For example looking at different features to compile our X data or using transformations like binning. Finally, we can also experiment with the model's layout, such as the number of hidden layers and training epochs, to see if it improves."
      ]
    },
    {
      "cell_type": "markdown",
      "metadata": {},
      "source": []
    }
  ],
  "metadata": {
    "colab": {
      "provenance": []
    },
    "kernelspec": {
      "display_name": "base",
      "language": "python",
      "name": "python3"
    },
    "language_info": {
      "codemirror_mode": {
        "name": "ipython",
        "version": 3
      },
      "file_extension": ".py",
      "mimetype": "text/x-python",
      "name": "python",
      "nbconvert_exporter": "python",
      "pygments_lexer": "ipython3",
      "version": "3.12.3"
    }
  },
  "nbformat": 4,
  "nbformat_minor": 0
}
